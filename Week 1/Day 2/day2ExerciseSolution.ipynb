{
 "cells": [
  {
   "cell_type": "markdown",
   "id": "73c51acb",
   "metadata": {},
   "source": [
    "# DAY 2 EXERCISE"
   ]
  },
  {
   "cell_type": "markdown",
   "id": "aa3c0fdc",
   "metadata": {},
   "source": [
    "## Question 1"
   ]
  },
  {
   "cell_type": "code",
   "execution_count": 8,
   "id": "f15a1c3f",
   "metadata": {},
   "outputs": [],
   "source": [
    "def get_expected_cost(beds,baths):\n",
    "    \n",
    "# asumme the expected cost for a house with 0 bedrooms and 0 bathrooms is 80000\n",
    "\n",
    "    value = 80000\n",
    "    \n",
    "# add cost bedroom 30000\n",
    "\n",
    "    value += beds * 30000\n",
    "    \n",
    "# add cost bathroom 10000\n",
    "\n",
    "    value += baths * 10000\n",
    "    \n",
    "    return value"
   ]
  },
  {
   "cell_type": "markdown",
   "id": "a3a5b21f",
   "metadata": {},
   "source": [
    "## Question 2"
   ]
  },
  {
   "cell_type": "code",
   "execution_count": 9,
   "id": "b8dc5e83",
   "metadata": {},
   "outputs": [
    {
     "name": "stdout",
     "output_type": "stream",
     "text": [
      "170000\n",
      "190000\n",
      "200000\n",
      "210000\n"
     ]
    }
   ],
   "source": [
    "# Calculate the expected cost of each option using the get_expected_cost() function\n",
    "\n",
    "option_1 = get_expected_cost(2, 3)\n",
    "option_2 = get_expected_cost(3, 2)\n",
    "option_3 = get_expected_cost(3, 3)\n",
    "option_4 = get_expected_cost(3, 4)\n",
    "\n",
    "# Printing the expected cost of each option\n",
    "\n",
    "print(option_1)\n",
    "print(option_2)\n",
    "print(option_3)\n",
    "print(option_4)"
   ]
  },
  {
   "cell_type": "markdown",
   "id": "b5866df7",
   "metadata": {},
   "source": [
    "## Question 3"
   ]
  },
  {
   "cell_type": "code",
   "execution_count": 15,
   "id": "c32c9e42",
   "metadata": {},
   "outputs": [],
   "source": [
    "\n",
    "def get_cost(sqft_walls, sqft_ceiling, sqft_per_gallon, cost_per_gallon):\n",
    "    total_sqft = sqft_walls + sqft_ceiling\n",
    "    gallons_needed = math.ceil(total_sqft / sqft_per_gallon)\n",
    "    cost = gallons_needed * cost_per_gallon\n",
    "    return cost"
   ]
  },
  {
   "cell_type": "markdown",
   "id": "f528561e",
   "metadata": {},
   "source": [
    "## Question 4"
   ]
  },
  {
   "cell_type": "code",
   "execution_count": 16,
   "id": "8099f761",
   "metadata": {},
   "outputs": [
    {
     "name": "stdout",
     "output_type": "stream",
     "text": [
      "30\n"
     ]
    }
   ],
   "source": [
    "# paint usage\n",
    "sqft_walls = 432\n",
    "sqft_ceiling = 144\n",
    "sqft_per_gallon = 400\n",
    "cost_per_gallon = 15\n",
    "cost = get_cost(sqft_walls, sqft_ceiling, sqft_per_gallon, cost_per_gallon)\n",
    "print(cost)"
   ]
  }
 ],
 "metadata": {
  "kernelspec": {
   "display_name": "Python 3 (ipykernel)",
   "language": "python",
   "name": "python3"
  },
  "language_info": {
   "codemirror_mode": {
    "name": "ipython",
    "version": 3
   },
   "file_extension": ".py",
   "mimetype": "text/x-python",
   "name": "python",
   "nbconvert_exporter": "python",
   "pygments_lexer": "ipython3",
   "version": "3.9.13"
  }
 },
 "nbformat": 4,
 "nbformat_minor": 5
}
