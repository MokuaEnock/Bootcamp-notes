{
 "cells": [
  {
   "attachments": {},
   "cell_type": "markdown",
   "metadata": {},
   "source": [
    "# Introduction"
   ]
  },
  {
   "attachments": {},
   "cell_type": "markdown",
   "metadata": {},
   "source": [
    "In this lesson, you will learn how to organize your code with functions. A function is a block of code designed to perform a specific task. As you'll see, functions will let you do roughly the same calculation multiple times without duplicating any code.\n",
    "\n",
    "The `add_three` function accepts any nuber and add three to the number and then returns the result."
   ]
  },
  {
   "cell_type": "code",
   "execution_count": 1,
   "metadata": {},
   "outputs": [],
   "source": [
    "#define the function\n",
    "\n",
    "def add_three(input_var):\n",
    "    output_var = input_var + 3\n",
    "    return output_var"
   ]
  },
  {
   "attachments": {},
   "cell_type": "markdown",
   "metadata": {},
   "source": [
    "Every function is composed of two pieces: a **header** and **body**\n",
    "\n",
    "## Header\n",
    "\n",
    "The header defines the name of the function and its arguments, below are some key points to note about funtions:\n",
    "\n",
    "- Every function header begins with def, which tells Python that we are about to define a function.\n",
    "- In the example, the function name is add_three.\n",
    "- In the example, the argument is input_var. The argument is the name of the variable that will be used as input to the function. It is always enclosed in parentheses that apppear immediately after the name of the function. (Note that a function can also have no arguments, or it can have multiple arguments. You'll see some examples of this later in the lesson.)\n",
    "- For every function, the parentheses enclosing the function argument(s) must be followed by a colon : .\n",
    "\n",
    "## Body\n",
    "\n",
    "The function body specifies the work taht the function does, here are some key takeaways form function bodies in python:\n",
    "\n",
    "- Every line of code in the function body must be indented exactly four spaces. You can do this by pushing the space bar four times, or by hitting the \"Tab\" button once on your keyboard. (As you learn more about Python, you may need to indent your code by more than four spaces, but you'll learn more about that later in this course.)\n",
    "- The function does its work by running all of the indented lines from top to bottom.\n",
    "    - It takes the argument as input, which in the example is `input_var`.\n",
    "    - The function creates a new variable output_var with the calculation `output_var = input_var + 3`.\n",
    "    - Then, the final line of code, called the **return statement**, just returns the value in `output_var` as the function's output.\n",
    "\n",
    "> The code cell above just defines the function, but does not run it. The details of the function body will make more sense after the next code cell, when we actually run the function.\n",
    "\n",
    "\n",
    "## How to run(or \"call\") a function\n",
    "\n",
    "When we run a function, it can also be referred to as \"calling\" the function.\n",
    "\n",
    "In the code cell below, we run the function with 10 as the input value. We define a new variable new_number which is set to the output of the function.\n"
   ]
  },
  {
   "cell_type": "code",
   "execution_count": 2,
   "metadata": {},
   "outputs": [
    {
     "name": "stdout",
     "output_type": "stream",
     "text": [
      "13\n"
     ]
    }
   ],
   "source": [
    "# Run the function with 10 as input\n",
    "new_number = add_three(10)\n",
    "\n",
    "# Check that the value is 13, as expected\n",
    "print(new_number)"
   ]
  },
  {
   "attachments": {},
   "cell_type": "markdown",
   "metadata": {},
   "source": [
    "In more detail,\n",
    "\n",
    "- `add_three(10)` is the value that we get as output when we supply 10 as the value for `input_var` and call the `add_three()` function. When the function runs, it runs all of the code in its body, from top to bottom:\n",
    "     - It first calculates `output_var = input_var + 3`, which sets `output_var = 13`.\n",
    "    - The final line of code is the return statement, which returns the value of `output_var`, which is 13.\n",
    "- By setting `new_number = add_three(10)`, we set `new_number = 13`.\n",
    "\n",
    "\n",
    "**Note**: When we casually refer to the `add_three()` function in this tutorial, we use empty closing parentheses after the function name. This is consistent with how people generally write explanations of Python code, and the empty parentheses just make it clear that we are referring to a function, as opposed to a variable or another Python object. These parentheses should always be empty, even if the function has arguments.\n",
    "\n",
    "## Naming Functions\n",
    "In the example above, the name of the function was selected for you. When naming your own functions, you should use only lowercase letters, with words separated by underscores instead of spaces.\n",
    "\n",
    "Naming functions will feel natural over time, and it is normal for it to feel uncomfortable at first. The best way to learn is by viewing a lot of Python code.\n",
    "\n",
    "## Example 2 \n",
    "\n",
    "Now that you understand the basics, we can move on to an example with a longer calculation.\n",
    "\n",
    "Say you are helping a friend to calculate their weekly paycheck after taxes.\n",
    "\n",
    "- They're in a 12% tax bracket (in other words, 12% of their salary is taken for taxes, and they only take home 88%), and\n",
    "- They're paid hourly, at a rate of $15/hour.\n",
    " \n",
    "The function below calculates the paycheck based on the number of hours worked. The function is more complicated than with the first example, because the function has more lines of code and comments. Similar to the example above, the function has a single argument (num hours). In the function body, we:\n",
    "\n",
    "- Use the value for `num_hours` to specify the value for a new variable `pay_pretax`.\n",
    "- Use the value of pay_pretax to specify the value for a new variable `pay_aftertax`.\n",
    "- Return the value of the `pay_aftertax` variable."
   ]
  },
  {
   "cell_type": "code",
   "execution_count": 3,
   "metadata": {},
   "outputs": [],
   "source": [
    "def get_pay(num_hours):\n",
    "    # Pre-tax pay, based on receiving $15/hour\n",
    "    pay_pretax = num_hours * 15\n",
    "    # After-tax pay, based on being in 12% tax bracket\n",
    "    pay_aftertax = pay_pretax * (1 - .12)\n",
    "    return pay_aftertax"
   ]
  },
  {
   "attachments": {},
   "cell_type": "markdown",
   "metadata": {},
   "source": [
    "We call this function the same way we called the first function. The next code cell calculates the paycheck, based on working 40 hours. (After taxes, it is $528.)"
   ]
  },
  {
   "cell_type": "code",
   "execution_count": 4,
   "metadata": {},
   "outputs": [
    {
     "name": "stdout",
     "output_type": "stream",
     "text": [
      "528.0\n"
     ]
    }
   ],
   "source": [
    "# Calculate pay based on working 40 hours\n",
    "pay_fulltime = get_pay(40)\n",
    "print(pay_fulltime)"
   ]
  },
  {
   "attachments": {},
   "cell_type": "markdown",
   "metadata": {},
   "source": [
    "To quickly calculate pay based on a different number of hours worked, you need to supply the function with a different number. For instance, say your friend works 32 hours. (Then, they get $422.40.)"
   ]
  },
  {
   "cell_type": "code",
   "execution_count": 5,
   "metadata": {},
   "outputs": [
    {
     "name": "stdout",
     "output_type": "stream",
     "text": [
      "422.4\n"
     ]
    }
   ],
   "source": [
    "pay_parttime = get_pay(32)\n",
    "print(pay_parttime)"
   ]
  },
  {
   "attachments": {},
   "cell_type": "markdown",
   "metadata": {},
   "source": [
    "Because you wrote a function, you can calculate pay for different hours without having to rewrite all of the code in the calculations all over again.\n",
    "\n",
    "Functions can help you to avoid errors in your code, and you save a lot of time. In general, when coding, you should aim to write as little as possible, because each time you type out a calculation, it's another opportunity to accidentally introduce a typo or error.\n",
    "\n",
    "## Variable \"scope\"\n",
    "\n",
    "Variables defined inside the function body cannot be accessed outside of the function. For instance, the next code cell errors, because pay_aftertax only exists inside the function."
   ]
  },
  {
   "cell_type": "code",
   "execution_count": 6,
   "metadata": {},
   "outputs": [
    {
     "ename": "NameError",
     "evalue": "name 'pay_aftertax' is not defined",
     "output_type": "error",
     "traceback": [
      "\u001b[0;31m---------------------------------------------------------------------------\u001b[0m",
      "\u001b[0;31mNameError\u001b[0m                                 Traceback (most recent call last)",
      "Cell \u001b[0;32mIn[6], line 1\u001b[0m\n\u001b[0;32m----> 1\u001b[0m \u001b[39mprint\u001b[39m(pay_aftertax)\n",
      "\u001b[0;31mNameError\u001b[0m: name 'pay_aftertax' is not defined"
     ]
    }
   ],
   "source": [
    "print(pay_aftertax)"
   ]
  },
  {
   "attachments": {},
   "cell_type": "markdown",
   "metadata": {},
   "source": [
    "You will get the same error if you try to print pay_pretax or num_hours. For this reason, if you need any information from a function, you need to make sure that appears in the return statement at the end of the function.\n",
    "\n",
    "We refer to a variable's scope as the part of the code where it is accessible. Variables defined inside a function (like pay_aftertax) have a local scope of that function only. However, as you've seen, variables defined outside all functions (like pay_parttime) have a global scope and can be accessed anywhere.\n",
    "\n",
    "## Functions with multiple arguments\n",
    "\n",
    "So far, you have learned how to define a function with just one argument. To define a function with multiple arguments, you only need to add more arguments inside the parentheses in the function head and separate them with a comma.\n",
    "\n",
    "We do this with the get_pay_with_more_inputs() function below, which calculates a weekly paycheck based on three arguments:\n",
    "\n",
    "- `num_hours` - number of hours worked in one week\n",
    "- `hourly_wage` - the hourly wage (in $/hour)\n",
    "- `tax_bracket` - percentage of your salary that is removed for taxes"
   ]
  },
  {
   "cell_type": "code",
   "execution_count": 7,
   "metadata": {},
   "outputs": [],
   "source": [
    "def get_pay_with_more_inputs(num_hours, hourly_wage, tax_bracket):\n",
    "    # Pre-tax pay\n",
    "    pay_pretax = num_hours * hourly_wage\n",
    "    # After-tax pay\n",
    "    pay_aftertax = pay_pretax * (1 - tax_bracket)\n",
    "    return pay_aftertax"
   ]
  },
  {
   "cell_type": "markdown",
   "metadata": {},
   "source": [
    "Then, to call the function, you need to provide one value for each input, again separated by a comma.\n",
    "\n",
    "In the code cell below, we calculate the pay after taxes for someone who works 40 hours, makes $24/hour, and is in a 22% tax bracket."
   ]
  },
  {
   "cell_type": "code",
   "execution_count": 8,
   "metadata": {},
   "outputs": [
    {
     "name": "stdout",
     "output_type": "stream",
     "text": [
      "748.8000000000001\n"
     ]
    }
   ],
   "source": [
    "higher_pay_aftertax = get_pay_with_more_inputs(40, 24, .22)\n",
    "print(higher_pay_aftertax)"
   ]
  },
  {
   "attachments": {},
   "cell_type": "markdown",
   "metadata": {},
   "source": [
    "The following code cell gives the same result as when we ran get_pay(40), because hourly_wage is set to 15, and tax_bracket is set to 12%, which lines up with how we designed get_pay."
   ]
  },
  {
   "cell_type": "code",
   "execution_count": 9,
   "metadata": {},
   "outputs": [
    {
     "name": "stdout",
     "output_type": "stream",
     "text": [
      "528.0\n"
     ]
    }
   ],
   "source": [
    "same_pay_fulltime = get_pay_with_more_inputs(40, 15, .12)\n",
    "print(same_pay_fulltime)"
   ]
  },
  {
   "attachments": {},
   "cell_type": "markdown",
   "metadata": {},
   "source": [
    "Depending on how we plan to use this new function `get_pay_with_more_inputs()`, it can be more useful than the original function `get_pay()`, because it addresses more cases. Instead of potentially incorrectly assuming the hourly wage and tax bracket, the new function allows the user to specify the correct values. But, if you're sure the hourly wage and tax bracket won't need to change, the new function is just more complicated than necessary. In general, when defining functions, you'll need to consider how much flexibility you need, based on your use case.\n",
    "\n",
    "## Functions with no arguments\n",
    "\n",
    "Note that it's possible to define function with no arguments, and that don't have a return statement. The print_hello() function in the code cell below is an example.\n"
   ]
  },
  {
   "cell_type": "code",
   "execution_count": 10,
   "metadata": {},
   "outputs": [
    {
     "name": "stdout",
     "output_type": "stream",
     "text": [
      "Hello, you!\n",
      "Good morning!\n"
     ]
    }
   ],
   "source": [
    "# Define the function with no arguments and with no return\n",
    "def print_hello():\n",
    "    print(\"Hello, you!\")\n",
    "    print(\"Good morning!\")\n",
    "    \n",
    "# Call the function\n",
    "print_hello()"
   ]
  }
 ],
 "metadata": {
  "kernelspec": {
   "display_name": "Python 3",
   "language": "python",
   "name": "python3"
  },
  "language_info": {
   "codemirror_mode": {
    "name": "ipython",
    "version": 3
   },
   "file_extension": ".py",
   "mimetype": "text/x-python",
   "name": "python",
   "nbconvert_exporter": "python",
   "pygments_lexer": "ipython3",
   "version": "3.8.10"
  },
  "orig_nbformat": 4,
  "vscode": {
   "interpreter": {
    "hash": "916dbcbb3f70747c44a77c7bcd40155683ae19c65e1c03b4aa3499c5328201f1"
   }
  }
 },
 "nbformat": 4,
 "nbformat_minor": 2
}
