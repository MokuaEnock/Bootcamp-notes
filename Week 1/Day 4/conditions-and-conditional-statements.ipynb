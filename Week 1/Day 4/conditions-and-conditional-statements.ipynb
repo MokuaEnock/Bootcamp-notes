{
 "cells": [
  {
   "cell_type": "markdown",
   "id": "a0bfffc3",
   "metadata": {
    "papermill": {
     "duration": 0.006745,
     "end_time": "2022-08-30T17:41:31.355890",
     "exception": false,
     "start_time": "2022-08-30T17:41:31.349145",
     "status": "completed"
    },
    "tags": []
   },
   "source": [
    "# Introduction\n",
    "\n",
    "You have already seen that when you change the input value to a function, you often get a different output.  For instance, consider an `add_five()` function that just adds five to any number and returns the result.  Then `add_five(7)` will return an output of 12 (=7+5), and `add_five(8)` will return an output of 13 (=8+5).  Note that no matter what the input is, the action that the function performs is always the same: it always adds five.\n",
    "\n",
    "But you might instead need a function that performs an action that depends on the input.  For instance, you might need a function `add_three_or_eight()` that adds three if the input is less than 10, and adds eight if the input is 10 or more.  Then `add_three_or_eight(1)` will return 4 (= 1+3), but `add_three_or_eight(11)` will return 19 (=11+8).  In this case, the action that the function performs varies with the input.\n",
    "\n",
    "In this lesson, you will learn how to use conditions and conditional statements to modify how your functions run.\n",
    "\n",
    "# Conditions\n",
    "\n",
    "In programming, **conditions** are statements that are either `True` or `False`.  There are many different ways to write conditions in Python, but some of the most common ways of writing conditions just compare two different values.  For instance, you can check if 2 is greater than 3."
   ]
  },
  {
   "cell_type": "code",
   "execution_count": 1,
   "id": "6feaf9dd",
   "metadata": {
    "execution": {
     "iopub.execute_input": "2022-08-30T17:41:31.370974Z",
     "iopub.status.busy": "2022-08-30T17:41:31.370016Z",
     "iopub.status.idle": "2022-08-30T17:41:31.381982Z",
     "shell.execute_reply": "2022-08-30T17:41:31.381149Z"
    },
    "papermill": {
     "duration": 0.021734,
     "end_time": "2022-08-30T17:41:31.383877",
     "exception": false,
     "start_time": "2022-08-30T17:41:31.362143",
     "status": "completed"
    },
    "tags": []
   },
   "outputs": [
    {
     "name": "stdout",
     "output_type": "stream",
     "text": [
      "False\n"
     ]
    }
   ],
   "source": [
    "print(2 > 3)"
   ]
  },
  {
   "cell_type": "markdown",
   "id": "16adb6dd",
   "metadata": {
    "papermill": {
     "duration": 0.005907,
     "end_time": "2022-08-30T17:41:31.395997",
     "exception": false,
     "start_time": "2022-08-30T17:41:31.390090",
     "status": "completed"
    },
    "tags": []
   },
   "source": [
    "Python identifies this as False, since 2 is not greater than 3.\n",
    "\n",
    "You can also use conditions to compare the values of variables.  In the next code cell, `var_one` has a value of 1, and `var_two` has a value of two.  In the conditions, we check if `var_one` is less than 1 (which is `False`), and we check if `var_two` is greater than or equal to `var_one` (which is `True`)."
   ]
  },
  {
   "cell_type": "code",
   "execution_count": 2,
   "id": "7a500a02",
   "metadata": {
    "execution": {
     "iopub.execute_input": "2022-08-30T17:41:31.410394Z",
     "iopub.status.busy": "2022-08-30T17:41:31.410035Z",
     "iopub.status.idle": "2022-08-30T17:41:31.416011Z",
     "shell.execute_reply": "2022-08-30T17:41:31.414728Z"
    },
    "papermill": {
     "duration": 0.015696,
     "end_time": "2022-08-30T17:41:31.417888",
     "exception": false,
     "start_time": "2022-08-30T17:41:31.402192",
     "status": "completed"
    },
    "tags": []
   },
   "outputs": [
    {
     "name": "stdout",
     "output_type": "stream",
     "text": [
      "False\n",
      "True\n"
     ]
    }
   ],
   "source": [
    "var_one = 1\n",
    "var_two = 2\n",
    "\n",
    "print(var_one < 1)\n",
    "print(var_two >= var_one)"
   ]
  },
  {
   "cell_type": "markdown",
   "id": "3f8b1edb",
   "metadata": {
    "papermill": {
     "duration": 0.005992,
     "end_time": "2022-08-30T17:41:31.430166",
     "exception": false,
     "start_time": "2022-08-30T17:41:31.424174",
     "status": "completed"
    },
    "tags": []
   },
   "source": [
    "For a list of common symbols you can use to construct conditions, check out the chart below.\n",
    "\n",
    "<table style=\"width: 100%;\">\n",
    "<tbody>\n",
    "<tr><th><b>Symbol</b></th><th><b>Meaning</b></th></tr>\n",
    "<tr>\n",
    "<td>==</td>\n",
    "<td>equals</td>\n",
    "</tr>\n",
    "<tr>\n",
    "<td>!=</td>\n",
    "<td>does not equal</td>\n",
    "</tr>\n",
    "<tr>\n",
    "<td>&#60;</td>\n",
    "<td>less than</td>\n",
    "</tr>\n",
    "<tr>\n",
    "<td>&#60;=</td>\n",
    "<td>less than or equal to</td>\n",
    "</tr>\n",
    "<tr>\n",
    "<td>&#62;</td>\n",
    "<td>greater than</td>\n",
    "</tr>\n",
    "<tr>\n",
    "<td>&#62;=</td>\n",
    "<td>greater than or equal to</td>\n",
    "</tr>\n",
    "</tbody>\n",
    "</table>"
   ]
  },
  {
   "cell_type": "markdown",
   "id": "10d5fb8d",
   "metadata": {
    "papermill": {
     "duration": 0.005944,
     "end_time": "2022-08-30T17:41:31.442355",
     "exception": false,
     "start_time": "2022-08-30T17:41:31.436411",
     "status": "completed"
    },
    "tags": []
   },
   "source": [
    "**Important Note**: When you check two values are equal, make sure you use the == sign, and not the = sign.  \n",
    "- `var_one==1` checks if the value of `var_one` is 1, but \n",
    "- `var_one=1` sets the value of `var_one` to 1."
   ]
  },
  {
   "cell_type": "markdown",
   "id": "2ddfbf5f",
   "metadata": {
    "papermill": {
     "duration": 0.006004,
     "end_time": "2022-08-30T17:41:31.454573",
     "exception": false,
     "start_time": "2022-08-30T17:41:31.448569",
     "status": "completed"
    },
    "tags": []
   },
   "source": [
    "# Conditional statements\n",
    "\n",
    "**Conditional statements** use conditions to modify how your function runs.  They check the value of a condition, and if the condition evaluates to `True`, then a certain block of code is executed.  (Otherwise, if the condition is `False`, then the code is not run.)  \n",
    "\n",
    "You will see several examples of this in the following sections.\n",
    "\n",
    "## \"if\" statements\n",
    "\n",
    "The simplest type of conditional statement is an \"if\" statement.  You can see an example of this in the `evaluate_temp()` function below.  The function accepts a body temperature (in Celcius) as input.\n",
    "- Initially, `message` is set to `\"Normal temperature\"`.  \n",
    "- Then, if `temp > 38` is `True` (e.g., the body temperature is greater than 38°C), the message is updated to `\"Fever!\"`.  Otherwise, if `temp > 38` is False, then the message is not updated.\n",
    "- Finally, `message` is returned by the function.  "
   ]
  },
  {
   "cell_type": "code",
   "execution_count": 3,
   "id": "3a59ae38",
   "metadata": {
    "execution": {
     "iopub.execute_input": "2022-08-30T17:41:31.469662Z",
     "iopub.status.busy": "2022-08-30T17:41:31.469039Z",
     "iopub.status.idle": "2022-08-30T17:41:31.473882Z",
     "shell.execute_reply": "2022-08-30T17:41:31.473155Z"
    },
    "papermill": {
     "duration": 0.014764,
     "end_time": "2022-08-30T17:41:31.475794",
     "exception": false,
     "start_time": "2022-08-30T17:41:31.461030",
     "status": "completed"
    },
    "tags": []
   },
   "outputs": [],
   "source": [
    "def evaluate_temp(temp):\n",
    "    # Set an initial message\n",
    "    message = \"Normal temperature.\"\n",
    "    # Update value of message only if temperature greater than 38\n",
    "    if temp > 38:\n",
    "        message = \"Fever!\"\n",
    "    return message"
   ]
  },
  {
   "cell_type": "markdown",
   "id": "62916c6c",
   "metadata": {
    "papermill": {
     "duration": 0.005806,
     "end_time": "2022-08-30T17:41:31.487655",
     "exception": false,
     "start_time": "2022-08-30T17:41:31.481849",
     "status": "completed"
    },
    "tags": []
   },
   "source": [
    "In the next code cell, we call the function, where the temperature is 37°C. The message is `\"Normal temperature\"`, because the temperature is less than 38°C (`temp > 38` evaluates to `False`) in this case.  "
   ]
  },
  {
   "cell_type": "code",
   "execution_count": 4,
   "id": "dccfe167",
   "metadata": {
    "execution": {
     "iopub.execute_input": "2022-08-30T17:41:31.501830Z",
     "iopub.status.busy": "2022-08-30T17:41:31.501536Z",
     "iopub.status.idle": "2022-08-30T17:41:31.505501Z",
     "shell.execute_reply": "2022-08-30T17:41:31.504716Z"
    },
    "papermill": {
     "duration": 0.013501,
     "end_time": "2022-08-30T17:41:31.507818",
     "exception": false,
     "start_time": "2022-08-30T17:41:31.494317",
     "status": "completed"
    },
    "tags": []
   },
   "outputs": [
    {
     "name": "stdout",
     "output_type": "stream",
     "text": [
      "Normal temperature.\n"
     ]
    }
   ],
   "source": [
    "print(evaluate_temp(37))"
   ]
  },
  {
   "cell_type": "markdown",
   "id": "dbc74d9f",
   "metadata": {
    "papermill": {
     "duration": 0.006246,
     "end_time": "2022-08-30T17:41:31.520264",
     "exception": false,
     "start_time": "2022-08-30T17:41:31.514018",
     "status": "completed"
    },
    "tags": []
   },
   "source": [
    "However, if the temperature is instead 39°C, since this is greater than 38°C, the message is updated to `\"Fever!\"`."
   ]
  },
  {
   "cell_type": "code",
   "execution_count": 5,
   "id": "6d717c4c",
   "metadata": {
    "execution": {
     "iopub.execute_input": "2022-08-30T17:41:31.533689Z",
     "iopub.status.busy": "2022-08-30T17:41:31.533406Z",
     "iopub.status.idle": "2022-08-30T17:41:31.537688Z",
     "shell.execute_reply": "2022-08-30T17:41:31.536864Z"
    },
    "papermill": {
     "duration": 0.013333,
     "end_time": "2022-08-30T17:41:31.539719",
     "exception": false,
     "start_time": "2022-08-30T17:41:31.526386",
     "status": "completed"
    },
    "tags": []
   },
   "outputs": [
    {
     "name": "stdout",
     "output_type": "stream",
     "text": [
      "Fever!\n"
     ]
    }
   ],
   "source": [
    "print(evaluate_temp(39))"
   ]
  },
  {
   "cell_type": "markdown",
   "id": "c35ccb5b",
   "metadata": {
    "papermill": {
     "duration": 0.005844,
     "end_time": "2022-08-30T17:41:31.551788",
     "exception": false,
     "start_time": "2022-08-30T17:41:31.545944",
     "status": "completed"
    },
    "tags": []
   },
   "source": [
    "Note that there are two levels of indentation:\n",
    "- The first level of indentation is because we always need to indent the code block inside a function.\n",
    "- The second level of indentation is because we also need to indent the code block belonging to the \"if\" statement.  (As you'll see, we'll also need to indent the code blocks for \"elif\" and \"else\" statements.)\n",
    "\n",
    "Note that because the return statement is not indented under the \"if\" statement, it is always executed, whether `temp > 38` is `True` or `False`."
   ]
  },
  {
   "cell_type": "markdown",
   "id": "cf9ade18",
   "metadata": {
    "papermill": {
     "duration": 0.006015,
     "end_time": "2022-08-30T17:41:31.564018",
     "exception": false,
     "start_time": "2022-08-30T17:41:31.558003",
     "status": "completed"
    },
    "tags": []
   },
   "source": [
    "## \"if ... else\" statements\n",
    "\n",
    "We can use \"else\" statements to run code if a statement is False.  The code under the \"if\" statement is run if the statement is `True`, and the code under \"else\" is run if the statement is `False`."
   ]
  },
  {
   "cell_type": "code",
   "execution_count": 6,
   "id": "da98b69b",
   "metadata": {
    "execution": {
     "iopub.execute_input": "2022-08-30T17:41:31.577675Z",
     "iopub.status.busy": "2022-08-30T17:41:31.577382Z",
     "iopub.status.idle": "2022-08-30T17:41:31.581567Z",
     "shell.execute_reply": "2022-08-30T17:41:31.580722Z"
    },
    "papermill": {
     "duration": 0.012882,
     "end_time": "2022-08-30T17:41:31.583231",
     "exception": false,
     "start_time": "2022-08-30T17:41:31.570349",
     "status": "completed"
    },
    "tags": []
   },
   "outputs": [],
   "source": [
    "def evaluate_temp_with_else(temp):\n",
    "    if temp > 38:\n",
    "        message = \"Fever!\"\n",
    "    else:\n",
    "        message = \"Normal temperature.\"\n",
    "    return message"
   ]
  },
  {
   "cell_type": "markdown",
   "id": "f4b480dc",
   "metadata": {
    "papermill": {
     "duration": 0.005664,
     "end_time": "2022-08-30T17:41:31.595114",
     "exception": false,
     "start_time": "2022-08-30T17:41:31.589450",
     "status": "completed"
    },
    "tags": []
   },
   "source": [
    "This `evaluate_temp_with_else()` function has equivalent behavior to the `evaluate_temp()` function.\n",
    "\n",
    "In the next code cell, we call this new function, where the temperature is 37°C.  In this case, `temp > 38` evaluates to `False`, so the code under the \"else\" statement is executed, and the `Normal temperature.` message is returned."
   ]
  },
  {
   "cell_type": "code",
   "execution_count": 7,
   "id": "490f5570",
   "metadata": {
    "execution": {
     "iopub.execute_input": "2022-08-30T17:41:31.608860Z",
     "iopub.status.busy": "2022-08-30T17:41:31.608316Z",
     "iopub.status.idle": "2022-08-30T17:41:31.613099Z",
     "shell.execute_reply": "2022-08-30T17:41:31.612190Z"
    },
    "papermill": {
     "duration": 0.013618,
     "end_time": "2022-08-30T17:41:31.614766",
     "exception": false,
     "start_time": "2022-08-30T17:41:31.601148",
     "status": "completed"
    },
    "tags": []
   },
   "outputs": [
    {
     "name": "stdout",
     "output_type": "stream",
     "text": [
      "Normal temperature.\n"
     ]
    }
   ],
   "source": [
    "print(evaluate_temp_with_else(37))"
   ]
  },
  {
   "cell_type": "markdown",
   "id": "727a6b64",
   "metadata": {
    "papermill": {
     "duration": 0.00612,
     "end_time": "2022-08-30T17:41:31.627175",
     "exception": false,
     "start_time": "2022-08-30T17:41:31.621055",
     "status": "completed"
    },
    "tags": []
   },
   "source": [
    "As with the previous function, we indent the code blocks after the \"if\" and \"else\" statements.  \n",
    "\n",
    "## \"if ... elif ... else\" statements\n",
    "\n",
    "We can use \"elif\" (which is short for \"else if\") to check if multiple conditions might be true.  The function below:\n",
    "- First checks if `temp > 38`.  If this is true, then the message is set to `\"Fever!\"`.\n",
    "- As long as the message has not already been set, the function then checks if `temp > 35`.  If this is true, then the message is set to `\"Normal temperature.\"`.\n",
    "- Then, if still no message has been set, the \"else\" statement ensures that the message is set to `\"Low temperature.\"` message is printed.\n",
    "\n",
    "You can think of \"elif\" as saying ... \"okay, that previous condition (e.g., `temp > 38`) was false, so let's check if this new condition (e.g., `temp > 35`) might be true!\""
   ]
  },
  {
   "cell_type": "code",
   "execution_count": 8,
   "id": "259cb0e1",
   "metadata": {
    "execution": {
     "iopub.execute_input": "2022-08-30T17:41:31.642696Z",
     "iopub.status.busy": "2022-08-30T17:41:31.640930Z",
     "iopub.status.idle": "2022-08-30T17:41:31.646866Z",
     "shell.execute_reply": "2022-08-30T17:41:31.646075Z"
    },
    "papermill": {
     "duration": 0.015095,
     "end_time": "2022-08-30T17:41:31.648663",
     "exception": false,
     "start_time": "2022-08-30T17:41:31.633568",
     "status": "completed"
    },
    "tags": []
   },
   "outputs": [],
   "source": [
    "def evaluate_temp_with_elif(temp):\n",
    "    if temp > 38:\n",
    "        message = \"Fever!\"\n",
    "    elif temp > 35:\n",
    "        message = \"Normal temperature.\"\n",
    "    else:\n",
    "        message = \"Low temperature.\"\n",
    "    return message"
   ]
  },
  {
   "cell_type": "markdown",
   "id": "9b5b2cd5",
   "metadata": {
    "papermill": {
     "duration": 0.005853,
     "end_time": "2022-08-30T17:41:31.660876",
     "exception": false,
     "start_time": "2022-08-30T17:41:31.655023",
     "status": "completed"
    },
    "tags": []
   },
   "source": [
    "In the code cell below, we run the code under the \"elif\" statement, because `temp > 38` is `False`, and `temp > 35` is `True`.  Once this code is run, the function skips over the \"else\" statement and returns the message."
   ]
  },
  {
   "cell_type": "code",
   "execution_count": 9,
   "id": "ab35488c",
   "metadata": {
    "execution": {
     "iopub.execute_input": "2022-08-30T17:41:31.675280Z",
     "iopub.status.busy": "2022-08-30T17:41:31.674273Z",
     "iopub.status.idle": "2022-08-30T17:41:31.681982Z",
     "shell.execute_reply": "2022-08-30T17:41:31.681266Z"
    },
    "papermill": {
     "duration": 0.016756,
     "end_time": "2022-08-30T17:41:31.683580",
     "exception": false,
     "start_time": "2022-08-30T17:41:31.666824",
     "status": "completed"
    },
    "tags": []
   },
   "outputs": [
    {
     "data": {
      "text/plain": [
       "'Normal temperature.'"
      ]
     },
     "execution_count": 9,
     "metadata": {},
     "output_type": "execute_result"
    }
   ],
   "source": [
    "evaluate_temp_with_elif(36)"
   ]
  },
  {
   "cell_type": "markdown",
   "id": "dce82845",
   "metadata": {
    "papermill": {
     "duration": 0.005776,
     "end_time": "2022-08-30T17:41:31.695715",
     "exception": false,
     "start_time": "2022-08-30T17:41:31.689939",
     "status": "completed"
    },
    "tags": []
   },
   "source": [
    "Finally, we try out a case where the temperature is less than 35°C.  Since the conditionals in the \"if\" and \"elif\" statements both evaluate to `False`, the code block inside the \"else\" statement is executed."
   ]
  },
  {
   "cell_type": "code",
   "execution_count": 10,
   "id": "384e0316",
   "metadata": {
    "execution": {
     "iopub.execute_input": "2022-08-30T17:41:31.712209Z",
     "iopub.status.busy": "2022-08-30T17:41:31.710819Z",
     "iopub.status.idle": "2022-08-30T17:41:31.716573Z",
     "shell.execute_reply": "2022-08-30T17:41:31.715964Z"
    },
    "papermill": {
     "duration": 0.015851,
     "end_time": "2022-08-30T17:41:31.718267",
     "exception": false,
     "start_time": "2022-08-30T17:41:31.702416",
     "status": "completed"
    },
    "tags": []
   },
   "outputs": [
    {
     "data": {
      "text/plain": [
       "'Low temperature.'"
      ]
     },
     "execution_count": 10,
     "metadata": {},
     "output_type": "execute_result"
    }
   ],
   "source": [
    "evaluate_temp_with_elif(34)"
   ]
  },
  {
   "cell_type": "markdown",
   "id": "e70fb8eb",
   "metadata": {
    "papermill": {
     "duration": 0.006473,
     "end_time": "2022-08-30T17:41:31.731573",
     "exception": false,
     "start_time": "2022-08-30T17:41:31.725100",
     "status": "completed"
    },
    "tags": []
   },
   "source": [
    "# Example - Calculations\n",
    "\n",
    "In the examples so far, conditional statements were used to decide how to set the values of variables.  But you can also use conditional statements to perform different calculations.\n",
    "\n",
    "In this next example, say you live in a country with only two tax brackets.  Everyone earning less than 12,000 pays 25% in taxes, and anyone earning 12,000 or more pays 30%.  The function below calculates how much tax is owed."
   ]
  },
  {
   "cell_type": "code",
   "execution_count": 11,
   "id": "0e75d1d3",
   "metadata": {
    "execution": {
     "iopub.execute_input": "2022-08-30T17:41:31.746474Z",
     "iopub.status.busy": "2022-08-30T17:41:31.745962Z",
     "iopub.status.idle": "2022-08-30T17:41:31.749760Z",
     "shell.execute_reply": "2022-08-30T17:41:31.749128Z"
    },
    "papermill": {
     "duration": 0.013768,
     "end_time": "2022-08-30T17:41:31.752074",
     "exception": false,
     "start_time": "2022-08-30T17:41:31.738306",
     "status": "completed"
    },
    "tags": []
   },
   "outputs": [],
   "source": [
    "def get_taxes(earnings):\n",
    "    if earnings < 12000:\n",
    "        tax_owed = .25 * earnings\n",
    "    else:\n",
    "        tax_owed = .30 * earnings\n",
    "    return tax_owed"
   ]
  },
  {
   "cell_type": "markdown",
   "id": "0ad90474",
   "metadata": {
    "papermill": {
     "duration": 0.006147,
     "end_time": "2022-08-30T17:41:31.764707",
     "exception": false,
     "start_time": "2022-08-30T17:41:31.758560",
     "status": "completed"
    },
    "tags": []
   },
   "source": [
    "The next code cell uses the function."
   ]
  },
  {
   "cell_type": "code",
   "execution_count": 12,
   "id": "81380360",
   "metadata": {
    "execution": {
     "iopub.execute_input": "2022-08-30T17:41:31.779521Z",
     "iopub.status.busy": "2022-08-30T17:41:31.778494Z",
     "iopub.status.idle": "2022-08-30T17:41:31.784308Z",
     "shell.execute_reply": "2022-08-30T17:41:31.783230Z"
    },
    "papermill": {
     "duration": 0.015219,
     "end_time": "2022-08-30T17:41:31.786158",
     "exception": false,
     "start_time": "2022-08-30T17:41:31.770939",
     "status": "completed"
    },
    "tags": []
   },
   "outputs": [
    {
     "name": "stdout",
     "output_type": "stream",
     "text": [
      "2250.0\n",
      "4500.0\n"
     ]
    }
   ],
   "source": [
    "ana_taxes = get_taxes(9000)\n",
    "bob_taxes = get_taxes(15000)\n",
    "\n",
    "print(ana_taxes)\n",
    "print(bob_taxes)"
   ]
  },
  {
   "cell_type": "markdown",
   "id": "7a3329a9",
   "metadata": {
    "papermill": {
     "duration": 0.006657,
     "end_time": "2022-08-30T17:41:31.800062",
     "exception": false,
     "start_time": "2022-08-30T17:41:31.793405",
     "status": "completed"
    },
    "tags": []
   },
   "source": [
    "In each case, we call the `get_taxes()` function and use the value that is returned to set the value of a variable.\n",
    "- For `ana_taxes`, we calculate taxes owed by a person who earns 9,000.  In this case, we call the `get_taxes()` function with `earnings` set to `9000`.  Thus, `earnings < 12000` is `True`, and `tax_owed` is set to `.25 * 9000`.  Then we return the value of `tax_owed`.\n",
    "- For `bob_taxes`, we calculate taxes owed by a person who earns 15,000.  In this case, we call the `get_taxes()` function with `earnings` set to `15000`.  Thus, `earnings < 12000` is `False`, and `tax_owed` is set to `.30 * 15000`.  Then we return the value of `tax_owed`.\n",
    "\n",
    "Before we move on to another example - remember the `add_three_or_eight()` function from the introduction?  It accepts a number as input and adds three if the input is less than 10, and otherwise adds eight.  Can you figure out how you would write this function?  Once you have an answer, click on the \"Show hidden code\" button below to see the solution."
   ]
  },
  {
   "cell_type": "code",
   "execution_count": 13,
   "id": "56e1825d",
   "metadata": {
    "_kg_hide-input": true,
    "execution": {
     "iopub.execute_input": "2022-08-30T17:41:31.814997Z",
     "iopub.status.busy": "2022-08-30T17:41:31.814601Z",
     "iopub.status.idle": "2022-08-30T17:41:31.819164Z",
     "shell.execute_reply": "2022-08-30T17:41:31.818098Z"
    },
    "papermill": {
     "duration": 0.014194,
     "end_time": "2022-08-30T17:41:31.820818",
     "exception": false,
     "start_time": "2022-08-30T17:41:31.806624",
     "status": "completed"
    },
    "tags": []
   },
   "outputs": [],
   "source": [
    "\n",
    "def add_three_or_eight(number):\n",
    "    if number < 10:\n",
    "        result = number + 3\n",
    "    else:\n",
    "        result = number + 8\n",
    "    return result"
   ]
  },
  {
   "cell_type": "markdown",
   "id": "e3c473eb",
   "metadata": {
    "papermill": {
     "duration": 0.006755,
     "end_time": "2022-08-30T17:41:31.834602",
     "exception": false,
     "start_time": "2022-08-30T17:41:31.827847",
     "status": "completed"
    },
    "tags": []
   },
   "source": [
    "# Example - Multiple \"elif\" statements\n",
    "\n",
    "So far, you have seen \"elif\" used only once in a function.  But there's no limit to the number of \"elif\" statements you can use.  For instance, the next block of code calculates the dose of medication (in milliliters) to give to a child, based on weight (in kilograms).\n",
    "\n",
    "Note: This function should not be used as medical advice, and represents a fake medication."
   ]
  },
  {
   "cell_type": "code",
   "execution_count": 14,
   "id": "022df8c6",
   "metadata": {
    "execution": {
     "iopub.execute_input": "2022-08-30T17:41:31.852116Z",
     "iopub.status.busy": "2022-08-30T17:41:31.851507Z",
     "iopub.status.idle": "2022-08-30T17:41:31.856756Z",
     "shell.execute_reply": "2022-08-30T17:41:31.855666Z"
    },
    "papermill": {
     "duration": 0.015779,
     "end_time": "2022-08-30T17:41:31.858977",
     "exception": false,
     "start_time": "2022-08-30T17:41:31.843198",
     "status": "completed"
    },
    "tags": []
   },
   "outputs": [],
   "source": [
    "def get_dose(weight):\n",
    "    # Dosage is 1.25 ml for anyone under 5.2 kg\n",
    "    if weight < 5.2:\n",
    "        dose = 1.25\n",
    "    elif weight < 7.9:\n",
    "        dose = 2.5\n",
    "    elif weight < 10.4:\n",
    "        dose = 3.75\n",
    "    elif weight < 15.9:\n",
    "        dose = 5\n",
    "    elif weight < 21.2:\n",
    "        dose = 7.5\n",
    "    # Dosage is 10 ml for anyone 21.2 kg or over\n",
    "    else:\n",
    "        dose = 10\n",
    "    return dose"
   ]
  },
  {
   "cell_type": "markdown",
   "id": "f7f82949",
   "metadata": {
    "papermill": {
     "duration": 0.006558,
     "end_time": "2022-08-30T17:41:31.872728",
     "exception": false,
     "start_time": "2022-08-30T17:41:31.866170",
     "status": "completed"
    },
    "tags": []
   },
   "source": [
    "The next code cell runs the function.  Make sure that the output makes sense to you!\n",
    "- In this case, the \"if\" statement was `False`, and all of the \"elif\" statements evaluate to `False`, until we get to `weight < 15.9`, which is `True`, and `dose` is set to 5.\n",
    "- Once an \"elif\" statement evaluates to `True` and the code block is run, the function skips over all remaining \"elif\" and \"else\" statements.  After skipping these, all that is left is the return statement, which returns the value of `dose`.\n",
    "- The order of the `elif` statements does matter here!  Re-ordering the statements will return a very different result."
   ]
  },
  {
   "cell_type": "code",
   "execution_count": 15,
   "id": "827db5c4",
   "metadata": {
    "execution": {
     "iopub.execute_input": "2022-08-30T17:41:31.888194Z",
     "iopub.status.busy": "2022-08-30T17:41:31.887633Z",
     "iopub.status.idle": "2022-08-30T17:41:31.892814Z",
     "shell.execute_reply": "2022-08-30T17:41:31.891967Z"
    },
    "papermill": {
     "duration": 0.015109,
     "end_time": "2022-08-30T17:41:31.894601",
     "exception": false,
     "start_time": "2022-08-30T17:41:31.879492",
     "status": "completed"
    },
    "tags": []
   },
   "outputs": [
    {
     "name": "stdout",
     "output_type": "stream",
     "text": [
      "5\n"
     ]
    }
   ],
   "source": [
    "print(get_dose(12))"
   ]
  },
  {
   "cell_type": "markdown",
   "id": "1a801859",
   "metadata": {
    "papermill": {
     "duration": 0.006578,
     "end_time": "2022-08-30T17:41:31.908659",
     "exception": false,
     "start_time": "2022-08-30T17:41:31.902081",
     "status": "completed"
    },
    "tags": []
   },
   "source": [
    "Make sure this makes sense to you!  Once you're ready, use the link below to move on to the exercise.\n",
    "\n",
    "# Your turn\n",
    "\n",
    "Use what you have learned to **[write your own conditionals and conditional statements](https://www.kaggle.com/kernels/fork/25880622)**."
   ]
  },
  {
   "cell_type": "markdown",
   "id": "41baa493",
   "metadata": {
    "papermill": {
     "duration": 0.006578,
     "end_time": "2022-08-30T17:41:31.922019",
     "exception": false,
     "start_time": "2022-08-30T17:41:31.915441",
     "status": "completed"
    },
    "tags": []
   },
   "source": [
    "---\n",
    "\n",
    "\n",
    "\n",
    "\n",
    "*Have questions or comments? Visit the [course discussion forum](https://www.kaggle.com/learn/intro-to-programming/discussion) to chat with other learners.*"
   ]
  }
 ],
 "metadata": {
  "kernelspec": {
   "display_name": "Python 3",
   "language": "python",
   "name": "python3"
  },
  "language_info": {
   "codemirror_mode": {
    "name": "ipython",
    "version": 3
   },
   "file_extension": ".py",
   "mimetype": "text/x-python",
   "name": "python",
   "nbconvert_exporter": "python",
   "pygments_lexer": "ipython3",
   "version": "3.7.12"
  },
  "papermill": {
   "default_parameters": {},
   "duration": 8.987323,
   "end_time": "2022-08-30T17:41:32.549328",
   "environment_variables": {},
   "exception": null,
   "input_path": "__notebook__.ipynb",
   "output_path": "__notebook__.ipynb",
   "parameters": {},
   "start_time": "2022-08-30T17:41:23.562005",
   "version": "2.3.4"
  }
 },
 "nbformat": 4,
 "nbformat_minor": 5
}
