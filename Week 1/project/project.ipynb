{
  "cells": [
    {
      "cell_type": "code",
      "execution_count": null,
      "metadata": {
        "id": "8pa4b5Jcz1kf"
      },
      "outputs": [],
      "source": [
        "# Challenge 1\n",
        "# Write a function that determines how many days there are in a particular month. \n",
        "# Your function will have two parameters: The month as an integer between 1 and 12, \n",
        "# and the year as a four digit integer. \n",
        "# Ensure that your function reports the correct number of days in February for leap years.\n",
        "# \n",
        "OUR CODE GOES HERE"
      ]
    },
    {
      "cell_type": "code",
      "execution_count": null,
      "metadata": {
        "id": "uyz_9HC9y4XT"
      },
      "outputs": [],
      "source": [
        "# Challenge 2\n",
        "# In a particular company, taxi fares consist of a base fare of Ksh.200, \n",
        "# plus Ksh.25 for every 140 meters traveled. \n",
        "# Write a function that takes the distance traveled (in kilometers) \n",
        "# as its only parameter and returns the total fare as its only result.\n",
        "#\n",
        "OUR CODE GOES HERE"
      ]
    },
    {
      "cell_type": "code",
      "execution_count": null,
      "metadata": {
        "id": "a93DEIfI1Xkc"
      },
      "outputs": [],
      "source": [
        "# Challenge 3\n",
        "# A particular cell phone plan includes 20 minutes of air time and 20 text messages \n",
        "# for Ksh. 50.00 a month. Each additional minute of air time costs Ksh. 3.00, \n",
        "# while additional text messages cost Ksh. 2.00 each. \n",
        "# The entire bill (including the 999 charge) is subject to 16 percent VAT tax.\n",
        "# Write a program that reads the number of minutes and text messages used in a month from the user. \n",
        "# Display the base charge, additional minutes charge (if any), \n",
        "# additional text message charge (if any), tax and total bill amount. \n",
        "# Only display the additional minute and text message charges if the user incurred costs in these categories. \n",
        "# Ensure that all of the charges are displayed using 2 decimal places.\n",
        "#"
      ]
    },
    {
      "cell_type": "code",
      "execution_count": 1,
      "metadata": {},
      "outputs": [
        {
          "data": {
            "text/plain": [
              "'henry'"
            ]
          },
          "execution_count": 1,
          "metadata": {},
          "output_type": "execute_result"
        }
      ],
      "source": [
        "\"HENRY\".lower()"
      ]
    },
    {
      "cell_type": "code",
      "execution_count": 5,
      "metadata": {},
      "outputs": [],
      "source": [
        "def get_days(year, month):\n",
        "\n",
        "    rem_year = year % 4\n",
        "    if rem_year == 0:\n",
        "        mon = month.lower()\n",
        "        months = {\"january\": 31, \"february\": 29, \"march\": 31, \"april\": 30,\n",
        "                  \"may\": 31, \"june\": 30, \"july\": 31, \"august\": 31,\n",
        "                  \"september\": 30, \"october\": 31, \"november\": 30, \"december\": 31}\n",
        "        for mon in months:\n",
        "            return mon.key\n",
        "    else:\n",
        "        mon = month.lower()\n",
        "        months = {\"january\": 31, \"february\": 28, \"march\": 31, \"april\": 30,\n",
        "                  \"may\": 31, \"june\": 30, \"july\": 31, \"august\": 31,\n",
        "                  \"september\": 30, \"october\": 31, \"november\": 30, \"december\": 31}\n",
        "        for mon in months:\n",
        "            return mon.key\n"
      ]
    },
    {
      "cell_type": "code",
      "execution_count": 6,
      "metadata": {},
      "outputs": [
        {
          "ename": "AttributeError",
          "evalue": "'str' object has no attribute 'key'",
          "output_type": "error",
          "traceback": [
            "\u001b[0;31m---------------------------------------------------------------------------\u001b[0m",
            "\u001b[0;31mAttributeError\u001b[0m                            Traceback (most recent call last)",
            "Cell \u001b[0;32mIn[6], line 1\u001b[0m\n\u001b[0;32m----> 1\u001b[0m get_days(\u001b[39m2002\u001b[39;49m, \u001b[39m\"\u001b[39;49m\u001b[39mjanuary\u001b[39;49m\u001b[39m\"\u001b[39;49m)\n",
            "Cell \u001b[0;32mIn[5], line 17\u001b[0m, in \u001b[0;36mget_days\u001b[0;34m(year, month)\u001b[0m\n\u001b[1;32m     13\u001b[0m months \u001b[39m=\u001b[39m {\u001b[39m\"\u001b[39m\u001b[39mjanuary\u001b[39m\u001b[39m\"\u001b[39m: \u001b[39m31\u001b[39m, \u001b[39m\"\u001b[39m\u001b[39mfebruary\u001b[39m\u001b[39m\"\u001b[39m: \u001b[39m28\u001b[39m, \u001b[39m\"\u001b[39m\u001b[39mmarch\u001b[39m\u001b[39m\"\u001b[39m: \u001b[39m31\u001b[39m, \u001b[39m\"\u001b[39m\u001b[39mapril\u001b[39m\u001b[39m\"\u001b[39m: \u001b[39m30\u001b[39m,\n\u001b[1;32m     14\u001b[0m           \u001b[39m\"\u001b[39m\u001b[39mmay\u001b[39m\u001b[39m\"\u001b[39m: \u001b[39m31\u001b[39m, \u001b[39m\"\u001b[39m\u001b[39mjune\u001b[39m\u001b[39m\"\u001b[39m: \u001b[39m30\u001b[39m, \u001b[39m\"\u001b[39m\u001b[39mjuly\u001b[39m\u001b[39m\"\u001b[39m: \u001b[39m31\u001b[39m, \u001b[39m\"\u001b[39m\u001b[39maugust\u001b[39m\u001b[39m\"\u001b[39m: \u001b[39m31\u001b[39m,\n\u001b[1;32m     15\u001b[0m           \u001b[39m\"\u001b[39m\u001b[39mseptember\u001b[39m\u001b[39m\"\u001b[39m: \u001b[39m30\u001b[39m, \u001b[39m\"\u001b[39m\u001b[39moctober\u001b[39m\u001b[39m\"\u001b[39m: \u001b[39m31\u001b[39m, \u001b[39m\"\u001b[39m\u001b[39mnovember\u001b[39m\u001b[39m\"\u001b[39m: \u001b[39m30\u001b[39m, \u001b[39m\"\u001b[39m\u001b[39mdecember\u001b[39m\u001b[39m\"\u001b[39m: \u001b[39m31\u001b[39m}\n\u001b[1;32m     16\u001b[0m \u001b[39mfor\u001b[39;00m mon \u001b[39min\u001b[39;00m months:\n\u001b[0;32m---> 17\u001b[0m     \u001b[39mreturn\u001b[39;00m mon\u001b[39m.\u001b[39;49mkey\n",
            "\u001b[0;31mAttributeError\u001b[0m: 'str' object has no attribute 'key'"
          ]
        }
      ],
      "source": [
        "get_days(2002, \"january\")"
      ]
    },
    {
      "cell_type": "code",
      "execution_count": null,
      "metadata": {},
      "outputs": [],
      "source": []
    },
    {
      "cell_type": "code",
      "execution_count": null,
      "metadata": {},
      "outputs": [],
      "source": []
    }
  ],
  "metadata": {
    "colab": {
      "collapsed_sections": [
        "qbHky4L6u0GF",
        "4id48OhWr7L2",
        "51m8VyKYs_e3",
        "-yVfw__Bu4Sl",
        "ArRLPeQ0zTD7",
        "zpJ7dsVWyURZ",
        "qmwPuSsPyqff"
      ],
      "provenance": []
    },
    "kernelspec": {
      "display_name": "Python 3",
      "name": "python3"
    },
    "language_info": {
      "codemirror_mode": {
        "name": "ipython",
        "version": 3
      },
      "file_extension": ".py",
      "mimetype": "text/x-python",
      "name": "python",
      "nbconvert_exporter": "python",
      "pygments_lexer": "ipython3",
      "version": "3.8.10"
    }
  },
  "nbformat": 4,
  "nbformat_minor": 0
}
