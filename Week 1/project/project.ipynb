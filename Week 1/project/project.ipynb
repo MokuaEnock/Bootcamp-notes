{
  "cells": [
    {
      "cell_type": "code",
      "execution_count": null,
      "metadata": {
        "id": "8pa4b5Jcz1kf"
      },
      "outputs": [],
      "source": [
        "# Challenge 1\n",
        "# Write a function that determines how many days there are in a particular month. \n",
        "# Your function will have two parameters: The month as an integer between 1 and 12, \n",
        "# and the year as a four digit integer. \n",
        "# Ensure that your function reports the correct number of days in February for leap years.\n",
        "# \n",
        "OUR CODE GOES HERE"
      ]
    },
    {
      "cell_type": "code",
      "execution_count": null,
      "metadata": {
        "id": "uyz_9HC9y4XT"
      },
      "outputs": [],
      "source": [
        "# Challenge 2\n",
        "# In a particular company, taxi fares consist of a base fare of Ksh.200, \n",
        "# plus Ksh.25 for every 140 meters traveled. \n",
        "# Write a function that takes the distance traveled (in kilometers) \n",
        "# as its only parameter and returns the total fare as its only result.\n",
        "#\n",
        "OUR CODE GOES HERE"
      ]
    },
    {
      "cell_type": "code",
      "execution_count": null,
      "metadata": {
        "id": "a93DEIfI1Xkc"
      },
      "outputs": [],
      "source": [
        "# Challenge 3\n",
        "# A particular cell phone plan includes 20 minutes of air time and 20 text messages \n",
        "# for Ksh. 50.00 a month. Each additional minute of air time costs Ksh. 3.00, \n",
        "# while additional text messages cost Ksh. 2.00 each. \n",
        "# The entire bill (including the 999 charge) is subject to 16 percent VAT tax.\n",
        "# Write a program that reads the number of minutes and text messages used in a month from the user. \n",
        "# Display the base charge, additional minutes charge (if any), \n",
        "# additional text message charge (if any), tax and total bill amount. \n",
        "# Only display the additional minute and text message charges if the user incurred costs in these categories. \n",
        "# Ensure that all of the charges are displayed using 2 decimal places.\n",
        "#"
      ]
    }
  ],
  "metadata": {
    "colab": {
      "collapsed_sections": [
        "qbHky4L6u0GF",
        "4id48OhWr7L2",
        "51m8VyKYs_e3",
        "-yVfw__Bu4Sl",
        "ArRLPeQ0zTD7",
        "zpJ7dsVWyURZ",
        "qmwPuSsPyqff"
      ],
      "provenance": []
    },
    "kernelspec": {
      "display_name": "Python 3",
      "name": "python3"
    }
  },
  "nbformat": 4,
  "nbformat_minor": 0
}
