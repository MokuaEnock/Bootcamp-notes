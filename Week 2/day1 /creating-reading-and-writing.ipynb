{
 "cells": [
  {
   "cell_type": "markdown",
   "id": "0965e440",
   "metadata": {
    "papermill": {
     "duration": 0.012666,
     "end_time": "2022-02-08T16:44:11.749153",
     "exception": false,
     "start_time": "2022-02-08T16:44:11.736487",
     "status": "completed"
    },
    "tags": []
   },
   "source": [
    "# Introduction\n",
    "\n",
    "In this micro-course, you'll learn all about **[pandas](https://pandas.pydata.org)**, the most popular Python library for data analysis.\n",
    "\n",
    "Along the way, you'll complete several hands-on exercises with real-world data.  We recommend that you work on the exercises while reading the corresponding tutorials.  \n",
    "\n",
    "**To start the first exercise, please click [here](https://www.kaggle.com/kernels/fork/587970).**\n",
    "\n",
    "In this tutorial, you will learn how to create your own data, along with how to work with data that already exists.  \n",
    "\n",
    "# Getting started\n",
    "\n",
    "To use pandas, you'll typically start with the following line of code."
   ]
  },
  {
   "cell_type": "code",
   "execution_count": 1,
   "id": "d4137d7a",
   "metadata": {
    "execution": {
     "iopub.execute_input": "2022-02-08T16:44:11.776774Z",
     "iopub.status.busy": "2022-02-08T16:44:11.775483Z",
     "iopub.status.idle": "2022-02-08T16:44:11.784138Z",
     "shell.execute_reply": "2022-02-08T16:44:11.784541Z"
    },
    "papermill": {
     "duration": 0.023901,
     "end_time": "2022-02-08T16:44:11.784806",
     "exception": false,
     "start_time": "2022-02-08T16:44:11.760905",
     "status": "completed"
    },
    "tags": []
   },
   "outputs": [],
   "source": [
    "import pandas as pd"
   ]
  },
  {
   "cell_type": "markdown",
   "id": "8dd3cf51",
   "metadata": {
    "papermill": {
     "duration": 0.011055,
     "end_time": "2022-02-08T16:44:11.807253",
     "exception": false,
     "start_time": "2022-02-08T16:44:11.796198",
     "status": "completed"
    },
    "tags": []
   },
   "source": [
    "# Creating data\n",
    "\n",
    "There are two core objects in pandas: the **DataFrame** and the **Series**.\n",
    "\n",
    "### DataFrame\n",
    "\n",
    "A DataFrame is a table. It contains an array of individual *entries*, each of which has a certain *value*. Each entry corresponds to a row (or *record*) and a *column*.\n",
    "\n",
    "For example, consider the following simple DataFrame:"
   ]
  },
  {
   "cell_type": "code",
   "execution_count": 2,
   "id": "b2b60485",
   "metadata": {
    "execution": {
     "iopub.execute_input": "2022-02-08T16:44:11.832340Z",
     "iopub.status.busy": "2022-02-08T16:44:11.831829Z",
     "iopub.status.idle": "2022-02-08T16:44:11.852043Z",
     "shell.execute_reply": "2022-02-08T16:44:11.851494Z"
    },
    "papermill": {
     "duration": 0.033863,
     "end_time": "2022-02-08T16:44:11.852153",
     "exception": false,
     "start_time": "2022-02-08T16:44:11.818290",
     "status": "completed"
    },
    "tags": []
   },
   "outputs": [
    {
     "data": {
      "text/html": [
       "<div>\n",
       "<style scoped>\n",
       "    .dataframe tbody tr th:only-of-type {\n",
       "        vertical-align: middle;\n",
       "    }\n",
       "\n",
       "    .dataframe tbody tr th {\n",
       "        vertical-align: top;\n",
       "    }\n",
       "\n",
       "    .dataframe thead th {\n",
       "        text-align: right;\n",
       "    }\n",
       "</style>\n",
       "<table border=\"1\" class=\"dataframe\">\n",
       "  <thead>\n",
       "    <tr style=\"text-align: right;\">\n",
       "      <th></th>\n",
       "      <th>Yes</th>\n",
       "      <th>No</th>\n",
       "    </tr>\n",
       "  </thead>\n",
       "  <tbody>\n",
       "    <tr>\n",
       "      <th>0</th>\n",
       "      <td>50</td>\n",
       "      <td>131</td>\n",
       "    </tr>\n",
       "    <tr>\n",
       "      <th>1</th>\n",
       "      <td>21</td>\n",
       "      <td>2</td>\n",
       "    </tr>\n",
       "  </tbody>\n",
       "</table>\n",
       "</div>"
      ],
      "text/plain": [
       "   Yes   No\n",
       "0   50  131\n",
       "1   21    2"
      ]
     },
     "execution_count": 2,
     "metadata": {},
     "output_type": "execute_result"
    }
   ],
   "source": [
    "pd.DataFrame({'Yes': [50, 21], 'No': [131, 2]})"
   ]
  },
  {
   "cell_type": "markdown",
   "id": "823b803d",
   "metadata": {
    "papermill": {
     "duration": 0.011623,
     "end_time": "2022-02-08T16:44:11.876700",
     "exception": false,
     "start_time": "2022-02-08T16:44:11.865077",
     "status": "completed"
    },
    "tags": []
   },
   "source": [
    "In this example, the \"0, No\" entry has the value of 131. The \"0, Yes\" entry has a value of 50, and so on.\n",
    "\n",
    "DataFrame entries are not limited to integers. For instance, here's a DataFrame whose values are strings:"
   ]
  },
  {
   "cell_type": "code",
   "execution_count": 3,
   "id": "02a91d3b",
   "metadata": {
    "execution": {
     "iopub.execute_input": "2022-02-08T16:44:11.909772Z",
     "iopub.status.busy": "2022-02-08T16:44:11.909246Z",
     "iopub.status.idle": "2022-02-08T16:44:11.912296Z",
     "shell.execute_reply": "2022-02-08T16:44:11.912707Z"
    },
    "papermill": {
     "duration": 0.024118,
     "end_time": "2022-02-08T16:44:11.912835",
     "exception": false,
     "start_time": "2022-02-08T16:44:11.888717",
     "status": "completed"
    },
    "tags": []
   },
   "outputs": [
    {
     "data": {
      "text/html": [
       "<div>\n",
       "<style scoped>\n",
       "    .dataframe tbody tr th:only-of-type {\n",
       "        vertical-align: middle;\n",
       "    }\n",
       "\n",
       "    .dataframe tbody tr th {\n",
       "        vertical-align: top;\n",
       "    }\n",
       "\n",
       "    .dataframe thead th {\n",
       "        text-align: right;\n",
       "    }\n",
       "</style>\n",
       "<table border=\"1\" class=\"dataframe\">\n",
       "  <thead>\n",
       "    <tr style=\"text-align: right;\">\n",
       "      <th></th>\n",
       "      <th>Bob</th>\n",
       "      <th>Sue</th>\n",
       "    </tr>\n",
       "  </thead>\n",
       "  <tbody>\n",
       "    <tr>\n",
       "      <th>0</th>\n",
       "      <td>I liked it.</td>\n",
       "      <td>Pretty good.</td>\n",
       "    </tr>\n",
       "    <tr>\n",
       "      <th>1</th>\n",
       "      <td>It was awful.</td>\n",
       "      <td>Bland.</td>\n",
       "    </tr>\n",
       "  </tbody>\n",
       "</table>\n",
       "</div>"
      ],
      "text/plain": [
       "             Bob           Sue\n",
       "0    I liked it.  Pretty good.\n",
       "1  It was awful.        Bland."
      ]
     },
     "execution_count": 3,
     "metadata": {},
     "output_type": "execute_result"
    }
   ],
   "source": [
    "pd.DataFrame({'Bob': ['I liked it.', 'It was awful.'], 'Sue': ['Pretty good.', 'Bland.']})"
   ]
  },
  {
   "cell_type": "markdown",
   "id": "ecb643da",
   "metadata": {
    "papermill": {
     "duration": 0.011603,
     "end_time": "2022-02-08T16:44:11.936497",
     "exception": false,
     "start_time": "2022-02-08T16:44:11.924894",
     "status": "completed"
    },
    "tags": []
   },
   "source": [
    "We are using the `pd.DataFrame()` constructor to generate these DataFrame objects. The syntax for declaring a new one is a dictionary whose keys are the column names (`Bob` and `Sue` in this example), and whose values are a list of entries. This is the standard way of constructing a new DataFrame, and the one you are most likely to encounter."
   ]
  },
  {
   "cell_type": "markdown",
   "id": "ed45251e",
   "metadata": {
    "papermill": {
     "duration": 0.011872,
     "end_time": "2022-02-08T16:44:11.960307",
     "exception": false,
     "start_time": "2022-02-08T16:44:11.948435",
     "status": "completed"
    },
    "tags": []
   },
   "source": [
    "The dictionary-list constructor assigns values to the *column labels*, but just uses an ascending count from 0 (0, 1, 2, 3, ...) for the *row labels*. Sometimes this is OK, but oftentimes we will want to assign these labels ourselves.\n",
    "\n",
    "The list of row labels used in a DataFrame is known as an **Index**. We can assign values to it by using an `index` parameter in our constructor:"
   ]
  },
  {
   "cell_type": "code",
   "execution_count": 4,
   "id": "ef6c138a",
   "metadata": {
    "execution": {
     "iopub.execute_input": "2022-02-08T16:44:11.987868Z",
     "iopub.status.busy": "2022-02-08T16:44:11.987337Z",
     "iopub.status.idle": "2022-02-08T16:44:11.997244Z",
     "shell.execute_reply": "2022-02-08T16:44:11.997683Z"
    },
    "papermill": {
     "duration": 0.025686,
     "end_time": "2022-02-08T16:44:11.997828",
     "exception": false,
     "start_time": "2022-02-08T16:44:11.972142",
     "status": "completed"
    },
    "tags": []
   },
   "outputs": [
    {
     "data": {
      "text/html": [
       "<div>\n",
       "<style scoped>\n",
       "    .dataframe tbody tr th:only-of-type {\n",
       "        vertical-align: middle;\n",
       "    }\n",
       "\n",
       "    .dataframe tbody tr th {\n",
       "        vertical-align: top;\n",
       "    }\n",
       "\n",
       "    .dataframe thead th {\n",
       "        text-align: right;\n",
       "    }\n",
       "</style>\n",
       "<table border=\"1\" class=\"dataframe\">\n",
       "  <thead>\n",
       "    <tr style=\"text-align: right;\">\n",
       "      <th></th>\n",
       "      <th>Bob</th>\n",
       "      <th>Sue</th>\n",
       "    </tr>\n",
       "  </thead>\n",
       "  <tbody>\n",
       "    <tr>\n",
       "      <th>Product A</th>\n",
       "      <td>I liked it.</td>\n",
       "      <td>Pretty good.</td>\n",
       "    </tr>\n",
       "    <tr>\n",
       "      <th>Product B</th>\n",
       "      <td>It was awful.</td>\n",
       "      <td>Bland.</td>\n",
       "    </tr>\n",
       "  </tbody>\n",
       "</table>\n",
       "</div>"
      ],
      "text/plain": [
       "                     Bob           Sue\n",
       "Product A    I liked it.  Pretty good.\n",
       "Product B  It was awful.        Bland."
      ]
     },
     "execution_count": 4,
     "metadata": {},
     "output_type": "execute_result"
    }
   ],
   "source": [
    "pd.DataFrame({'Bob': ['I liked it.', 'It was awful.'], \n",
    "              'Sue': ['Pretty good.', 'Bland.']},\n",
    "             index=['Product A', 'Product B'])"
   ]
  },
  {
   "cell_type": "markdown",
   "id": "3ff45c17",
   "metadata": {
    "papermill": {
     "duration": 0.012192,
     "end_time": "2022-02-08T16:44:12.022721",
     "exception": false,
     "start_time": "2022-02-08T16:44:12.010529",
     "status": "completed"
    },
    "tags": []
   },
   "source": [
    "### Series\n",
    "\n",
    "A Series, by contrast, is a sequence of data values. If a DataFrame is a table, a Series is a list. And in fact you can create one with nothing more than a list:"
   ]
  },
  {
   "cell_type": "code",
   "execution_count": 5,
   "id": "74e9e853",
   "metadata": {
    "execution": {
     "iopub.execute_input": "2022-02-08T16:44:12.050097Z",
     "iopub.status.busy": "2022-02-08T16:44:12.049634Z",
     "iopub.status.idle": "2022-02-08T16:44:12.056573Z",
     "shell.execute_reply": "2022-02-08T16:44:12.057007Z"
    },
    "papermill": {
     "duration": 0.022218,
     "end_time": "2022-02-08T16:44:12.057157",
     "exception": false,
     "start_time": "2022-02-08T16:44:12.034939",
     "status": "completed"
    },
    "tags": []
   },
   "outputs": [
    {
     "data": {
      "text/plain": [
       "0    1\n",
       "1    2\n",
       "2    3\n",
       "3    4\n",
       "4    5\n",
       "dtype: int64"
      ]
     },
     "execution_count": 5,
     "metadata": {},
     "output_type": "execute_result"
    }
   ],
   "source": [
    "pd.Series([1, 2, 3, 4, 5])"
   ]
  },
  {
   "cell_type": "markdown",
   "id": "e3818087",
   "metadata": {
    "papermill": {
     "duration": 0.012953,
     "end_time": "2022-02-08T16:44:12.083347",
     "exception": false,
     "start_time": "2022-02-08T16:44:12.070394",
     "status": "completed"
    },
    "tags": []
   },
   "source": [
    "A Series is, in essence, a single column of a DataFrame. So you can assign row labels to the Series the same way as before, using an `index` parameter. However, a Series does not have a column name, it only has one overall `name`:"
   ]
  },
  {
   "cell_type": "code",
   "execution_count": 6,
   "id": "22f8ee16",
   "metadata": {
    "execution": {
     "iopub.execute_input": "2022-02-08T16:44:12.113350Z",
     "iopub.status.busy": "2022-02-08T16:44:12.112754Z",
     "iopub.status.idle": "2022-02-08T16:44:12.119703Z",
     "shell.execute_reply": "2022-02-08T16:44:12.120163Z"
    },
    "papermill": {
     "duration": 0.023586,
     "end_time": "2022-02-08T16:44:12.120309",
     "exception": false,
     "start_time": "2022-02-08T16:44:12.096723",
     "status": "completed"
    },
    "tags": []
   },
   "outputs": [
    {
     "data": {
      "text/plain": [
       "2015 Sales    30\n",
       "2016 Sales    35\n",
       "2017 Sales    40\n",
       "Name: Product A, dtype: int64"
      ]
     },
     "execution_count": 6,
     "metadata": {},
     "output_type": "execute_result"
    }
   ],
   "source": [
    "pd.Series([30, 35, 40], index=['2015 Sales', '2016 Sales', '2017 Sales'], name='Product A')"
   ]
  },
  {
   "cell_type": "markdown",
   "id": "7a99a7a5",
   "metadata": {
    "papermill": {
     "duration": 0.013097,
     "end_time": "2022-02-08T16:44:12.147400",
     "exception": false,
     "start_time": "2022-02-08T16:44:12.134303",
     "status": "completed"
    },
    "tags": []
   },
   "source": [
    "The Series and the DataFrame are intimately related. It's helpful to think of a DataFrame as actually being just a bunch of Series \"glued together\". We'll see more of this in the next section of this tutorial."
   ]
  },
  {
   "cell_type": "markdown",
   "id": "85b2b748",
   "metadata": {
    "papermill": {
     "duration": 0.013159,
     "end_time": "2022-02-08T16:44:12.174006",
     "exception": false,
     "start_time": "2022-02-08T16:44:12.160847",
     "status": "completed"
    },
    "tags": []
   },
   "source": [
    "# Reading data files\n",
    "\n",
    "Being able to create a DataFrame or Series by hand is handy. But, most of the time, we won't actually be creating our own data by hand. Instead, we'll be working with data that already exists.\n",
    "\n",
    "Data can be stored in any of a number of different forms and formats. By far the most basic of these is the humble CSV file. When you open a CSV file you get something that looks like this:\n",
    "\n",
    "```\n",
    "Product A,Product B,Product C,\n",
    "30,21,9,\n",
    "35,34,1,\n",
    "41,11,11\n",
    "```\n",
    "\n",
    "So a CSV file is a table of values separated by commas. Hence the name: \"Comma-Separated Values\", or CSV.\n",
    "\n",
    "Let's now set aside our toy datasets and see what a real dataset looks like when we read it into a DataFrame. We'll use the `pd.read_csv()` function to read the data into a DataFrame. This goes thusly:"
   ]
  },
  {
   "cell_type": "code",
   "execution_count": 7,
   "id": "35e9ec36",
   "metadata": {
    "execution": {
     "iopub.execute_input": "2022-02-08T16:44:12.203757Z",
     "iopub.status.busy": "2022-02-08T16:44:12.203264Z",
     "iopub.status.idle": "2022-02-08T16:44:13.957373Z",
     "shell.execute_reply": "2022-02-08T16:44:13.956495Z"
    },
    "papermill": {
     "duration": 1.770035,
     "end_time": "2022-02-08T16:44:13.957517",
     "exception": false,
     "start_time": "2022-02-08T16:44:12.187482",
     "status": "completed"
    },
    "tags": []
   },
   "outputs": [],
   "source": [
    "wine_reviews = pd.read_csv(\"../input/wine-reviews/winemag-data-130k-v2.csv\")"
   ]
  },
  {
   "cell_type": "markdown",
   "id": "1d94e52b",
   "metadata": {
    "papermill": {
     "duration": 0.020353,
     "end_time": "2022-02-08T16:44:13.999010",
     "exception": false,
     "start_time": "2022-02-08T16:44:13.978657",
     "status": "completed"
    },
    "tags": []
   },
   "source": [
    "We can use the `shape` attribute to check how large the resulting DataFrame is:"
   ]
  },
  {
   "cell_type": "code",
   "execution_count": 8,
   "id": "f6f7cc7e",
   "metadata": {
    "execution": {
     "iopub.execute_input": "2022-02-08T16:44:14.042926Z",
     "iopub.status.busy": "2022-02-08T16:44:14.042081Z",
     "iopub.status.idle": "2022-02-08T16:44:14.046194Z",
     "shell.execute_reply": "2022-02-08T16:44:14.046686Z"
    },
    "papermill": {
     "duration": 0.027361,
     "end_time": "2022-02-08T16:44:14.046842",
     "exception": false,
     "start_time": "2022-02-08T16:44:14.019481",
     "status": "completed"
    },
    "scrolled": false,
    "tags": []
   },
   "outputs": [
    {
     "data": {
      "text/plain": [
       "(129971, 14)"
      ]
     },
     "execution_count": 8,
     "metadata": {},
     "output_type": "execute_result"
    }
   ],
   "source": [
    "wine_reviews.shape"
   ]
  },
  {
   "cell_type": "markdown",
   "id": "f4f85b09",
   "metadata": {
    "papermill": {
     "duration": 0.020579,
     "end_time": "2022-02-08T16:44:14.088257",
     "exception": false,
     "start_time": "2022-02-08T16:44:14.067678",
     "status": "completed"
    },
    "tags": []
   },
   "source": [
    "So our new DataFrame has 130,000 records split across 14 different columns. That's almost 2 million entries!\n",
    "\n",
    "We can examine the contents of the resultant DataFrame using the `head()` command, which grabs the first five rows:"
   ]
  },
  {
   "cell_type": "code",
   "execution_count": 9,
   "id": "16dc5a61",
   "metadata": {
    "execution": {
     "iopub.execute_input": "2022-02-08T16:44:14.135182Z",
     "iopub.status.busy": "2022-02-08T16:44:14.134319Z",
     "iopub.status.idle": "2022-02-08T16:44:14.150126Z",
     "shell.execute_reply": "2022-02-08T16:44:14.149551Z"
    },
    "papermill": {
     "duration": 0.039396,
     "end_time": "2022-02-08T16:44:14.150269",
     "exception": false,
     "start_time": "2022-02-08T16:44:14.110873",
     "status": "completed"
    },
    "tags": []
   },
   "outputs": [
    {
     "data": {
      "text/html": [
       "<div>\n",
       "<style scoped>\n",
       "    .dataframe tbody tr th:only-of-type {\n",
       "        vertical-align: middle;\n",
       "    }\n",
       "\n",
       "    .dataframe tbody tr th {\n",
       "        vertical-align: top;\n",
       "    }\n",
       "\n",
       "    .dataframe thead th {\n",
       "        text-align: right;\n",
       "    }\n",
       "</style>\n",
       "<table border=\"1\" class=\"dataframe\">\n",
       "  <thead>\n",
       "    <tr style=\"text-align: right;\">\n",
       "      <th></th>\n",
       "      <th>Unnamed: 0</th>\n",
       "      <th>country</th>\n",
       "      <th>description</th>\n",
       "      <th>designation</th>\n",
       "      <th>points</th>\n",
       "      <th>price</th>\n",
       "      <th>province</th>\n",
       "      <th>region_1</th>\n",
       "      <th>region_2</th>\n",
       "      <th>taster_name</th>\n",
       "      <th>taster_twitter_handle</th>\n",
       "      <th>title</th>\n",
       "      <th>variety</th>\n",
       "      <th>winery</th>\n",
       "    </tr>\n",
       "  </thead>\n",
       "  <tbody>\n",
       "    <tr>\n",
       "      <th>0</th>\n",
       "      <td>0</td>\n",
       "      <td>Italy</td>\n",
       "      <td>Aromas include tropical fruit, broom, brimston...</td>\n",
       "      <td>Vulkà Bianco</td>\n",
       "      <td>87</td>\n",
       "      <td>NaN</td>\n",
       "      <td>Sicily &amp; Sardinia</td>\n",
       "      <td>Etna</td>\n",
       "      <td>NaN</td>\n",
       "      <td>Kerin O’Keefe</td>\n",
       "      <td>@kerinokeefe</td>\n",
       "      <td>Nicosia 2013 Vulkà Bianco  (Etna)</td>\n",
       "      <td>White Blend</td>\n",
       "      <td>Nicosia</td>\n",
       "    </tr>\n",
       "    <tr>\n",
       "      <th>1</th>\n",
       "      <td>1</td>\n",
       "      <td>Portugal</td>\n",
       "      <td>This is ripe and fruity, a wine that is smooth...</td>\n",
       "      <td>Avidagos</td>\n",
       "      <td>87</td>\n",
       "      <td>15.0</td>\n",
       "      <td>Douro</td>\n",
       "      <td>NaN</td>\n",
       "      <td>NaN</td>\n",
       "      <td>Roger Voss</td>\n",
       "      <td>@vossroger</td>\n",
       "      <td>Quinta dos Avidagos 2011 Avidagos Red (Douro)</td>\n",
       "      <td>Portuguese Red</td>\n",
       "      <td>Quinta dos Avidagos</td>\n",
       "    </tr>\n",
       "    <tr>\n",
       "      <th>2</th>\n",
       "      <td>2</td>\n",
       "      <td>US</td>\n",
       "      <td>Tart and snappy, the flavors of lime flesh and...</td>\n",
       "      <td>NaN</td>\n",
       "      <td>87</td>\n",
       "      <td>14.0</td>\n",
       "      <td>Oregon</td>\n",
       "      <td>Willamette Valley</td>\n",
       "      <td>Willamette Valley</td>\n",
       "      <td>Paul Gregutt</td>\n",
       "      <td>@paulgwine</td>\n",
       "      <td>Rainstorm 2013 Pinot Gris (Willamette Valley)</td>\n",
       "      <td>Pinot Gris</td>\n",
       "      <td>Rainstorm</td>\n",
       "    </tr>\n",
       "    <tr>\n",
       "      <th>3</th>\n",
       "      <td>3</td>\n",
       "      <td>US</td>\n",
       "      <td>Pineapple rind, lemon pith and orange blossom ...</td>\n",
       "      <td>Reserve Late Harvest</td>\n",
       "      <td>87</td>\n",
       "      <td>13.0</td>\n",
       "      <td>Michigan</td>\n",
       "      <td>Lake Michigan Shore</td>\n",
       "      <td>NaN</td>\n",
       "      <td>Alexander Peartree</td>\n",
       "      <td>NaN</td>\n",
       "      <td>St. Julian 2013 Reserve Late Harvest Riesling ...</td>\n",
       "      <td>Riesling</td>\n",
       "      <td>St. Julian</td>\n",
       "    </tr>\n",
       "    <tr>\n",
       "      <th>4</th>\n",
       "      <td>4</td>\n",
       "      <td>US</td>\n",
       "      <td>Much like the regular bottling from 2012, this...</td>\n",
       "      <td>Vintner's Reserve Wild Child Block</td>\n",
       "      <td>87</td>\n",
       "      <td>65.0</td>\n",
       "      <td>Oregon</td>\n",
       "      <td>Willamette Valley</td>\n",
       "      <td>Willamette Valley</td>\n",
       "      <td>Paul Gregutt</td>\n",
       "      <td>@paulgwine</td>\n",
       "      <td>Sweet Cheeks 2012 Vintner's Reserve Wild Child...</td>\n",
       "      <td>Pinot Noir</td>\n",
       "      <td>Sweet Cheeks</td>\n",
       "    </tr>\n",
       "  </tbody>\n",
       "</table>\n",
       "</div>"
      ],
      "text/plain": [
       "   Unnamed: 0   country                                        description  \\\n",
       "0           0     Italy  Aromas include tropical fruit, broom, brimston...   \n",
       "1           1  Portugal  This is ripe and fruity, a wine that is smooth...   \n",
       "2           2        US  Tart and snappy, the flavors of lime flesh and...   \n",
       "3           3        US  Pineapple rind, lemon pith and orange blossom ...   \n",
       "4           4        US  Much like the regular bottling from 2012, this...   \n",
       "\n",
       "                          designation  points  price           province  \\\n",
       "0                        Vulkà Bianco      87    NaN  Sicily & Sardinia   \n",
       "1                            Avidagos      87   15.0              Douro   \n",
       "2                                 NaN      87   14.0             Oregon   \n",
       "3                Reserve Late Harvest      87   13.0           Michigan   \n",
       "4  Vintner's Reserve Wild Child Block      87   65.0             Oregon   \n",
       "\n",
       "              region_1           region_2         taster_name  \\\n",
       "0                 Etna                NaN       Kerin O’Keefe   \n",
       "1                  NaN                NaN          Roger Voss   \n",
       "2    Willamette Valley  Willamette Valley        Paul Gregutt   \n",
       "3  Lake Michigan Shore                NaN  Alexander Peartree   \n",
       "4    Willamette Valley  Willamette Valley        Paul Gregutt   \n",
       "\n",
       "  taster_twitter_handle                                              title  \\\n",
       "0          @kerinokeefe                  Nicosia 2013 Vulkà Bianco  (Etna)   \n",
       "1            @vossroger      Quinta dos Avidagos 2011 Avidagos Red (Douro)   \n",
       "2           @paulgwine       Rainstorm 2013 Pinot Gris (Willamette Valley)   \n",
       "3                   NaN  St. Julian 2013 Reserve Late Harvest Riesling ...   \n",
       "4           @paulgwine   Sweet Cheeks 2012 Vintner's Reserve Wild Child...   \n",
       "\n",
       "          variety               winery  \n",
       "0     White Blend              Nicosia  \n",
       "1  Portuguese Red  Quinta dos Avidagos  \n",
       "2      Pinot Gris            Rainstorm  \n",
       "3        Riesling           St. Julian  \n",
       "4      Pinot Noir         Sweet Cheeks  "
      ]
     },
     "execution_count": 9,
     "metadata": {},
     "output_type": "execute_result"
    }
   ],
   "source": [
    "wine_reviews.head()"
   ]
  },
  {
   "cell_type": "markdown",
   "id": "cbc269e6",
   "metadata": {
    "papermill": {
     "duration": 0.02187,
     "end_time": "2022-02-08T16:44:14.194541",
     "exception": false,
     "start_time": "2022-02-08T16:44:14.172671",
     "status": "completed"
    },
    "tags": []
   },
   "source": [
    "The `pd.read_csv()` function is well-endowed, with over 30 optional parameters you can specify. For example, you can see in this dataset that the CSV file has a built-in index, which pandas did not pick up on automatically. To make pandas use that column for the index (instead of creating a new one from scratch), we can specify an `index_col`."
   ]
  },
  {
   "cell_type": "code",
   "execution_count": 10,
   "id": "24f09a34",
   "metadata": {
    "execution": {
     "iopub.execute_input": "2022-02-08T16:44:14.244571Z",
     "iopub.status.busy": "2022-02-08T16:44:14.243742Z",
     "iopub.status.idle": "2022-02-08T16:44:15.049078Z",
     "shell.execute_reply": "2022-02-08T16:44:15.048523Z"
    },
    "papermill": {
     "duration": 0.832289,
     "end_time": "2022-02-08T16:44:15.049207",
     "exception": false,
     "start_time": "2022-02-08T16:44:14.216918",
     "status": "completed"
    },
    "tags": []
   },
   "outputs": [
    {
     "data": {
      "text/html": [
       "<div>\n",
       "<style scoped>\n",
       "    .dataframe tbody tr th:only-of-type {\n",
       "        vertical-align: middle;\n",
       "    }\n",
       "\n",
       "    .dataframe tbody tr th {\n",
       "        vertical-align: top;\n",
       "    }\n",
       "\n",
       "    .dataframe thead th {\n",
       "        text-align: right;\n",
       "    }\n",
       "</style>\n",
       "<table border=\"1\" class=\"dataframe\">\n",
       "  <thead>\n",
       "    <tr style=\"text-align: right;\">\n",
       "      <th></th>\n",
       "      <th>country</th>\n",
       "      <th>description</th>\n",
       "      <th>designation</th>\n",
       "      <th>points</th>\n",
       "      <th>price</th>\n",
       "      <th>province</th>\n",
       "      <th>region_1</th>\n",
       "      <th>region_2</th>\n",
       "      <th>taster_name</th>\n",
       "      <th>taster_twitter_handle</th>\n",
       "      <th>title</th>\n",
       "      <th>variety</th>\n",
       "      <th>winery</th>\n",
       "    </tr>\n",
       "  </thead>\n",
       "  <tbody>\n",
       "    <tr>\n",
       "      <th>0</th>\n",
       "      <td>Italy</td>\n",
       "      <td>Aromas include tropical fruit, broom, brimston...</td>\n",
       "      <td>Vulkà Bianco</td>\n",
       "      <td>87</td>\n",
       "      <td>NaN</td>\n",
       "      <td>Sicily &amp; Sardinia</td>\n",
       "      <td>Etna</td>\n",
       "      <td>NaN</td>\n",
       "      <td>Kerin O’Keefe</td>\n",
       "      <td>@kerinokeefe</td>\n",
       "      <td>Nicosia 2013 Vulkà Bianco  (Etna)</td>\n",
       "      <td>White Blend</td>\n",
       "      <td>Nicosia</td>\n",
       "    </tr>\n",
       "    <tr>\n",
       "      <th>1</th>\n",
       "      <td>Portugal</td>\n",
       "      <td>This is ripe and fruity, a wine that is smooth...</td>\n",
       "      <td>Avidagos</td>\n",
       "      <td>87</td>\n",
       "      <td>15.0</td>\n",
       "      <td>Douro</td>\n",
       "      <td>NaN</td>\n",
       "      <td>NaN</td>\n",
       "      <td>Roger Voss</td>\n",
       "      <td>@vossroger</td>\n",
       "      <td>Quinta dos Avidagos 2011 Avidagos Red (Douro)</td>\n",
       "      <td>Portuguese Red</td>\n",
       "      <td>Quinta dos Avidagos</td>\n",
       "    </tr>\n",
       "    <tr>\n",
       "      <th>2</th>\n",
       "      <td>US</td>\n",
       "      <td>Tart and snappy, the flavors of lime flesh and...</td>\n",
       "      <td>NaN</td>\n",
       "      <td>87</td>\n",
       "      <td>14.0</td>\n",
       "      <td>Oregon</td>\n",
       "      <td>Willamette Valley</td>\n",
       "      <td>Willamette Valley</td>\n",
       "      <td>Paul Gregutt</td>\n",
       "      <td>@paulgwine</td>\n",
       "      <td>Rainstorm 2013 Pinot Gris (Willamette Valley)</td>\n",
       "      <td>Pinot Gris</td>\n",
       "      <td>Rainstorm</td>\n",
       "    </tr>\n",
       "    <tr>\n",
       "      <th>3</th>\n",
       "      <td>US</td>\n",
       "      <td>Pineapple rind, lemon pith and orange blossom ...</td>\n",
       "      <td>Reserve Late Harvest</td>\n",
       "      <td>87</td>\n",
       "      <td>13.0</td>\n",
       "      <td>Michigan</td>\n",
       "      <td>Lake Michigan Shore</td>\n",
       "      <td>NaN</td>\n",
       "      <td>Alexander Peartree</td>\n",
       "      <td>NaN</td>\n",
       "      <td>St. Julian 2013 Reserve Late Harvest Riesling ...</td>\n",
       "      <td>Riesling</td>\n",
       "      <td>St. Julian</td>\n",
       "    </tr>\n",
       "    <tr>\n",
       "      <th>4</th>\n",
       "      <td>US</td>\n",
       "      <td>Much like the regular bottling from 2012, this...</td>\n",
       "      <td>Vintner's Reserve Wild Child Block</td>\n",
       "      <td>87</td>\n",
       "      <td>65.0</td>\n",
       "      <td>Oregon</td>\n",
       "      <td>Willamette Valley</td>\n",
       "      <td>Willamette Valley</td>\n",
       "      <td>Paul Gregutt</td>\n",
       "      <td>@paulgwine</td>\n",
       "      <td>Sweet Cheeks 2012 Vintner's Reserve Wild Child...</td>\n",
       "      <td>Pinot Noir</td>\n",
       "      <td>Sweet Cheeks</td>\n",
       "    </tr>\n",
       "  </tbody>\n",
       "</table>\n",
       "</div>"
      ],
      "text/plain": [
       "    country                                        description  \\\n",
       "0     Italy  Aromas include tropical fruit, broom, brimston...   \n",
       "1  Portugal  This is ripe and fruity, a wine that is smooth...   \n",
       "2        US  Tart and snappy, the flavors of lime flesh and...   \n",
       "3        US  Pineapple rind, lemon pith and orange blossom ...   \n",
       "4        US  Much like the regular bottling from 2012, this...   \n",
       "\n",
       "                          designation  points  price           province  \\\n",
       "0                        Vulkà Bianco      87    NaN  Sicily & Sardinia   \n",
       "1                            Avidagos      87   15.0              Douro   \n",
       "2                                 NaN      87   14.0             Oregon   \n",
       "3                Reserve Late Harvest      87   13.0           Michigan   \n",
       "4  Vintner's Reserve Wild Child Block      87   65.0             Oregon   \n",
       "\n",
       "              region_1           region_2         taster_name  \\\n",
       "0                 Etna                NaN       Kerin O’Keefe   \n",
       "1                  NaN                NaN          Roger Voss   \n",
       "2    Willamette Valley  Willamette Valley        Paul Gregutt   \n",
       "3  Lake Michigan Shore                NaN  Alexander Peartree   \n",
       "4    Willamette Valley  Willamette Valley        Paul Gregutt   \n",
       "\n",
       "  taster_twitter_handle                                              title  \\\n",
       "0          @kerinokeefe                  Nicosia 2013 Vulkà Bianco  (Etna)   \n",
       "1            @vossroger      Quinta dos Avidagos 2011 Avidagos Red (Douro)   \n",
       "2           @paulgwine       Rainstorm 2013 Pinot Gris (Willamette Valley)   \n",
       "3                   NaN  St. Julian 2013 Reserve Late Harvest Riesling ...   \n",
       "4           @paulgwine   Sweet Cheeks 2012 Vintner's Reserve Wild Child...   \n",
       "\n",
       "          variety               winery  \n",
       "0     White Blend              Nicosia  \n",
       "1  Portuguese Red  Quinta dos Avidagos  \n",
       "2      Pinot Gris            Rainstorm  \n",
       "3        Riesling           St. Julian  \n",
       "4      Pinot Noir         Sweet Cheeks  "
      ]
     },
     "execution_count": 10,
     "metadata": {},
     "output_type": "execute_result"
    }
   ],
   "source": [
    "wine_reviews = pd.read_csv(\"../input/wine-reviews/winemag-data-130k-v2.csv\", index_col=0)\n",
    "wine_reviews.head()"
   ]
  },
  {
   "cell_type": "markdown",
   "id": "ba714011",
   "metadata": {
    "papermill": {
     "duration": 0.022105,
     "end_time": "2022-02-08T16:44:15.093935",
     "exception": false,
     "start_time": "2022-02-08T16:44:15.071830",
     "status": "completed"
    },
    "tags": []
   },
   "source": [
    "# Your turn\n",
    "\n",
    "If you haven't started the exercise, you can **[get started here](https://www.kaggle.com/kernels/fork/587970)**."
   ]
  },
  {
   "cell_type": "markdown",
   "id": "b25c01ab",
   "metadata": {
    "papermill": {
     "duration": 0.022079,
     "end_time": "2022-02-08T16:44:15.138438",
     "exception": false,
     "start_time": "2022-02-08T16:44:15.116359",
     "status": "completed"
    },
    "tags": []
   },
   "source": [
    "---\n",
    "\n",
    "\n",
    "\n",
    "\n",
    "*Have questions or comments? Visit the [course discussion forum](https://www.kaggle.com/learn/pandas/discussion) to chat with other learners.*"
   ]
  }
 ],
 "metadata": {
  "kernelspec": {
   "display_name": "Python 3",
   "language": "python",
   "name": "python3"
  },
  "language_info": {
   "codemirror_mode": {
    "name": "ipython",
    "version": 3
   },
   "file_extension": ".py",
   "mimetype": "text/x-python",
   "name": "python",
   "nbconvert_exporter": "python",
   "pygments_lexer": "ipython3",
   "version": "3.7.12"
  },
  "papermill": {
   "default_parameters": {},
   "duration": 12.263247,
   "end_time": "2022-02-08T16:44:15.771485",
   "environment_variables": {},
   "exception": null,
   "input_path": "__notebook__.ipynb",
   "output_path": "__notebook__.ipynb",
   "parameters": {},
   "start_time": "2022-02-08T16:44:03.508238",
   "version": "2.3.3"
  }
 },
 "nbformat": 4,
 "nbformat_minor": 5
}
