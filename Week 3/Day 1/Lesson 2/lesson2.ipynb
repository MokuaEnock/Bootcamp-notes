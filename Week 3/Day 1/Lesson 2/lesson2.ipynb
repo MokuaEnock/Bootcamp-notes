{
  "cells": [
    {
      "cell_type": "markdown",
      "metadata": {
        "id": "KBZ6gDzJnhsr"
      },
      "source": [
        "# Examples\n",
        "We will now perform our first predictions. Consider [this data set](https://drive.google.com/file/d/13HPgfc4HP9UP-gHM2lutJ7MXSt-dAL1d/view?usp=sharing) which tracks various information about grad school applicants, as well as their percentage chance of admission to grad school.\n",
        "\n",
        "Our aim will be to predict one's chance of getting into grad school. Let's begin by taking a look at the data\n"
      ]
    },
    {
      "cell_type": "code",
      "execution_count": null,
      "metadata": {
        "id": "xXWDOqQ5nesd"
      },
      "outputs": [],
      "source": [
        "import numpy as np\n",
        "import pandas as pd\n",
        "\n",
        "#load the data\n",
        "data = pd.read_csv('./data/uni_admission.csv')\n",
        "\n",
        "#displaying the dataset\n",
        "data.shape"
      ]
    },
    {
      "cell_type": "markdown",
      "metadata": {
        "id": "JYrtTrgiqai1"
      },
      "source": [
        "You should see 500 entries, and 9 columns. Let's also get a description of the data"
      ]
    },
    {
      "cell_type": "code",
      "execution_count": null,
      "metadata": {
        "id": "IG6jgowUqgY0"
      },
      "outputs": [],
      "source": [
        "data.describe()"
      ]
    },
    {
      "cell_type": "markdown",
      "metadata": {
        "id": "ep0G7T0lqqIL"
      },
      "source": [
        "Let's start by focusing on a single variable: the GRE score "
      ]
    },
    {
      "cell_type": "code",
      "execution_count": null,
      "metadata": {
        "colab": {
          "base_uri": "https://localhost:8080/",
          "height": 295
        },
        "id": "ahImJveoq71L",
        "outputId": "31844e73-263a-4223-edd6-4b30f7f025d1"
      },
      "outputs": [
        {
          "data": {
            "image/png": "[encoded data removed]",
            "text/plain": [
              "<Figure size 432x288 with 1 Axes>"
            ]
          },
          "metadata": {
            "tags": []
          },
          "output_type": "display_data"
        }
      ],
      "source": [
        "import matplotlib.pyplot as plt\n",
        "\n",
        "data.plot(x='GRE', y='admit_chance', style='o')\n",
        "plt.title('GRE Score VS Chance of admission')\n",
        "plt.xlabel('GRE score')\n",
        "plt.ylabel('chance of admission')\n",
        "plt.show()\n",
        "\n"
      ]
    },
    {
      "cell_type": "markdown",
      "metadata": {
        "id": "oRXHOZUKtdup"
      },
      "source": [
        "We can clearly see that there is a relationship between GRE scores and chances of admission. While there are some outliers, we will now build a linear regression model to predict admission chance based on GRE results. First, we set up our train and test datasets"
      ]
    },
    {
      "cell_type": "code",
      "execution_count": null,
      "metadata": {
        "id": "mvoObvLatwKz"
      },
      "outputs": [],
      "source": [
        "from sklearn.model_selection import train_test_split\n",
        "\n",
        "X = data['GRE'].values.reshape(-1, 1)\n",
        "y = data['admit_chance'].values#.reshape(-1, 1)\n",
        "\n",
        "# Use 20% of the data as test\n",
        "# The rest will be our training set\n",
        "GRE_train, GRE_test, admit_train, admit_test = train_test_split(X, y, test_size=0.2, random_state=0)\n",
        "\n"
      ]
    },
    {
      "cell_type": "markdown",
      "metadata": {
        "id": "etuGnzXivAvZ"
      },
      "source": [
        "This should be familiar so far, time to actually create the model. We will create a regressor object, and train it using our train data"
      ]
    },
    {
      "cell_type": "code",
      "execution_count": null,
      "metadata": {
        "id": "zfMGlFRJvKRs"
      },
      "outputs": [],
      "source": [
        "from sklearn.linear_model import LinearRegression\n",
        "\n",
        "regressor = LinearRegression()\n",
        "\n",
        "regressor.fit(GRE_train, admit_train)\n",
        "\n",
        "#The fit method will look for our optimal line. More info on this method and others\n",
        "# at the official documentation https://scikit-learn.org/stable/modules/generated/sklearn.linear_model.LinearRegression.html#sklearn.linear_model.LinearRegression.fit\n",
        "\n",
        "#display the intercept / bias\n",
        "print(regressor.intercept_)\n",
        "\n",
        "#display the coefficient\n",
        "print(regressor.coef_)"
      ]
    },
    {
      "cell_type": "markdown",
      "metadata": {
        "id": "xB6v_bDowz5-"
      },
      "source": [
        "How good is our newly fitted model? Let's feed it the data we saved for testing. We will have the model predict chances of admission based on those GRE scores we set aside, then compare that to the actual chances from the original dataset."
      ]
    },
    {
      "cell_type": "code",
      "execution_count": null,
      "metadata": {
        "id": "v8WebJOuxH0M"
      },
      "outputs": [],
      "source": [
        "admit_predict = regressor.predict(GRE_test)\n",
        "\n",
        "comparison_frame = pd.DataFrame({'Actual': admit_test.flatten(), 'Predicted': admit_predict.flatten()})\n",
        "\n",
        "comparison_frame.describe()\n",
        "  "
      ]
    },
    {
      "cell_type": "markdown",
      "metadata": {
        "id": "stGyM9xxx4ET"
      },
      "source": [
        "Our model is not too bad, although you can see that it can be off, as with the min value. Let's visualize it for a better intuition"
      ]
    },
    {
      "cell_type": "code",
      "execution_count": null,
      "metadata": {
        "id": "z8PfFME6yK51"
      },
      "outputs": [],
      "source": [
        "plt.scatter(GRE_test, admit_test, color='black')\n",
        "plt.plot(GRE_test, admit_predict, color='red', linewidth=2)\n",
        "plt.show()"
      ]
    },
    {
      "cell_type": "markdown",
      "metadata": {
        "id": "xGm6EgXNyuTd"
      },
      "source": [
        "We have some outliers, but our line is nicely centered. While visualizations like this are helpful in assessing our line of best fit, sklearn comes with some crucial metrics for linear regressions"
      ]
    },
    {
      "cell_type": "code",
      "execution_count": null,
      "metadata": {
        "id": "_DAEo_J2zPD7"
      },
      "outputs": [],
      "source": [
        "from sklearn import metrics\n",
        "\n",
        "# Our first metric is MAE - Mean absolute error\n",
        "print('Mean Absolute Error:', metrics.mean_absolute_error(admit_test, admit_predict))\n",
        "\n",
        "# We can also use MSE - Mean squared error\n",
        "print('Mean Squared Error:', metrics.mean_squared_error(admit_test, admit_predict))  \n",
        "\n",
        "# Finally, the most popular metric: RMSE - Root mean squared error\n",
        "print('Root Mean Squared Error:', np.sqrt(metrics.mean_squared_error(admit_test, admit_predict)))  \n"
      ]
    },
    {
      "cell_type": "markdown",
      "metadata": {
        "id": "X-tKHtao036U"
      },
      "source": [
        "How do we make sense of the numbers above? You shoud read through [this article](https://medium.com/human-in-a-machine-world/mae-and-rmse-which-metric-is-better-e60ac3bde13d) for formal definitions of the metrics above, but bear in mind the following:\n",
        "\n",
        "\n",
        "\n",
        "*   We will use these metrics (particularly RMSE) to compare models to each other. The lower the value the better.\n",
        "*   These values are relative to our dependent variable, i.e our dependent variable ranges from 0.39 to 0.96, with a mean of 0.7 and standard deviation of 0.13. This makes an RMSE of 0.085 somewhat acceptable. If our data ranged from 0 to 10, an RMSE of 0.085 would be incredible!\n",
        "\n",
        "Let's see if we can improve our model by bringing in new independent variables. Let's start by plotting TOEFL scores against admission chance\n",
        "\n"
      ]
    },
    {
      "cell_type": "code",
      "execution_count": null,
      "metadata": {
        "id": "VuYx5_7l1I-j"
      },
      "outputs": [],
      "source": [
        "import matplotlib.pyplot as plt\n",
        "\n",
        "data.plot(x='TOEFL', y='admit_chance', style='o')\n",
        "plt.title('TOEFL Score VS Chance of admission')\n",
        "plt.xlabel('TOEFL score')\n",
        "plt.ylabel('chance of admission')\n",
        "plt.show()\n"
      ]
    },
    {
      "cell_type": "markdown",
      "metadata": {
        "id": "P9EZDGNG4xwo"
      },
      "source": [
        "Once again, we can see that there is a relationship between TOEFL score and chance of admission. Let's perform a multivariate linear regression using both GRE and TOEFL scores as independent variables."
      ]
    },
    {
      "cell_type": "code",
      "execution_count": null,
      "metadata": {
        "id": "OpZNLpS80uCg"
      },
      "outputs": [],
      "source": [
        "X = data[['GRE', 'TOEFL']].values\n",
        "y = data['admit_chance'].values\n",
        "\n",
        "# Train using 80% of the data.\n",
        "X_train, X_test, y_train, y_test = train_test_split(X, y, test_size=0.2, random_state=0)\n",
        "\n",
        "# find optimal coefficients and intercept\n",
        "regressor = LinearRegression()  \n",
        "regressor.fit(X_train, y_train)\n"
      ]
    },
    {
      "cell_type": "markdown",
      "metadata": {
        "id": "ReWYBvB65ndt"
      },
      "source": [
        "It is interesting at this point to check the coefficients used by our model, as they indicate how heavily each independent variable contributes to the dependent variable"
      ]
    },
    {
      "cell_type": "code",
      "execution_count": null,
      "metadata": {
        "id": "Ei3mNi-Q5_fj"
      },
      "outputs": [],
      "source": [
        "regressor.coef_\n"
      ]
    },
    {
      "cell_type": "markdown",
      "metadata": {
        "id": "fTGtl0Dx6Byd"
      },
      "source": [
        "In this case, we can see that a single point change in your Toefl score would influence your chances slightly more than a similar 1 point change in GRE scores. \n",
        "\n",
        "At this point, let's compare our predicted results to the actual data from the test set:\n"
      ]
    },
    {
      "cell_type": "code",
      "execution_count": null,
      "metadata": {
        "id": "glAxJvoR7Nw0"
      },
      "outputs": [],
      "source": [
        "comparison_frame = pd.DataFrame({'Actual': y_test.flatten(), 'Predicted': y_pred.flatten()})\n",
        "\n",
        "comparison_frame.describe()\n"
      ]
    },
    {
      "cell_type": "markdown",
      "metadata": {
        "id": "9_5XgSj27GA9"
      },
      "source": [
        "Slight improvements! This should be echoed in our key metrics being smaller than our single variable linear model"
      ]
    },
    {
      "cell_type": "code",
      "execution_count": null,
      "metadata": {
        "id": "y65oIbO36V2I"
      },
      "outputs": [],
      "source": [
        "y_pred = regressor.predict(X_test)\n",
        "\n",
        "print('Mean Absolute Error:', metrics.mean_absolute_error(y_test, y_pred))  \n",
        "print('Mean Squared Error:', metrics.mean_squared_error(y_test, y_pred))  \n",
        "print('Root Mean Squared Error:', np.sqrt(metrics.mean_squared_error(y_test, y_pred)))\n"
      ]
    },
    {
      "cell_type": "markdown",
      "metadata": {
        "id": "R-Mn8eIc7cYt"
      },
      "source": [
        "It is now time for some challenges!"
      ]
    },
    {
      "cell_type": "markdown",
      "metadata": {
        "id": "HJno-sha7fL0"
      },
      "source": [
        "# Challenge 1\n",
        "\n",
        "Using the same dataset, find out which of the available variables has the largest **weight** in predicting acceptance into university.\n",
        "\n"
      ]
    },
    {
      "cell_type": "code",
      "execution_count": null,
      "metadata": {
        "id": "OpEoLRvY8pRv"
      },
      "outputs": [],
      "source": []
    },
    {
      "cell_type": "markdown",
      "metadata": {
        "id": "-erZrimA8qNm"
      },
      "source": [
        "# Challenge 2\n",
        "\n",
        "Take a look at this [dataset](https://drive.google.com/file/d/1cctsp46KVzNKGAK0kLl3mY6wRTDlUBp4/view?usp=sharing) on wine quality. You will have to build a multivariate model that predicts the **quality** of the wine, but with a key constraint: you may only use 4 variables from the 11 independent variables available to you. \n",
        "\n",
        "How can you pick the 4 most relevant independent variables? recall your learnings from module 1.\n",
        "\n",
        "Compute your metrics, and compare with your peers. How did each of you achieve their results? \n",
        "\n",
        "Hint: recall reduction techniques, you want to pick independent variables that are as unrelated to each other as possible"
      ]
    },
    {
      "cell_type": "code",
      "execution_count": null,
      "metadata": {
        "id": "dEADFT8A_arz"
      },
      "outputs": [],
      "source": [
        "wine = pd.read_csv('winequality.csv')\n",
        "wine.describe()"
      ]
    }
  ],
  "metadata": {
    "colab": {
      "provenance": []
    },
    "kernelspec": {
      "display_name": "Python 3",
      "name": "python3"
    },
    "language_info": {
      "name": "python",
      "version": "3.8.10"
    }
  },
  "nbformat": 4,
  "nbformat_minor": 0
}
