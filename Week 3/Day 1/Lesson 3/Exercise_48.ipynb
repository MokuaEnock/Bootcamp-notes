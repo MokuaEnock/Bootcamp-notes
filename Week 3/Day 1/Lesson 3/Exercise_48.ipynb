{
  "nbformat": 4,
  "nbformat_minor": 0,
  "metadata": {
    "colab": {
      "provenance": [],
      "collapsed_sections": [
        "n97ST5PbLA2W",
        "DYCEwU29L-mq",
        "_gWczaAQe4bp",
        "YVJrqTADe08b",
        "b5E9neGKMCHW",
        "7Cuu3sbfLQXr"
      ]
    },
    "kernelspec": {
      "name": "python3",
      "display_name": "Python 3"
    }
  },
  "cells": [
    {
      "cell_type": "markdown",
      "metadata": {
        "id": "iaRo15NJfRVA"
      },
      "source": [
        "<font color=\"red\">*To start working on this notebook, or any other notebook that we will use in the Saharadatatech Data Science Course, we will need to save our own copy of it. We can do this by clicking File > Save a Copy in Drive. We will then be able to make edits to our own copy of this notebook.*</font>"
      ]
    },
    {
      "cell_type": "markdown",
      "metadata": {
        "id": "5cT5WrPsK-4T"
      },
      "source": [
        "# Python Programming: Linear Regression Exercise II"
      ]
    },
    {
      "cell_type": "markdown",
      "metadata": {
        "id": "n97ST5PbLA2W"
      },
      "source": [
        "## 1.0 Simple Linear Regression"
      ]
    },
    {
      "cell_type": "markdown",
      "metadata": {
        "id": "DYCEwU29L-mq"
      },
      "source": [
        "### Example"
      ]
    },
    {
      "cell_type": "code",
      "metadata": {
        "id": "Hi3F4SBdK55m"
      },
      "source": [
        "# Example 1\n",
        "# ---\n",
        "# Predict the percentage of marks that a student is expected to score \n",
        "# based upon the number of hours they studied\n",
        "# ---\n",
        "# "
      ],
      "execution_count": null,
      "outputs": []
    },
    {
      "cell_type": "code",
      "metadata": {
        "id": "TwDAPb9ZMEBf"
      },
      "source": [
        "# Importing our libraries\n",
        "# \n",
        "import pandas as pd\n",
        "import numpy as np\n",
        "import matplotlib.pyplot as plt\n",
        "%matplotlib inline"
      ],
      "execution_count": null,
      "outputs": []
    },
    {
      "cell_type": "code",
      "metadata": {
        "id": "FJz8BSfmMtLu"
      },
      "source": [
        "# Importing the CSV dataset using pandas\n",
        "# \n",
        "dataset = pd.read_csv('http://bit.ly/StudentDataset')"
      ],
      "execution_count": null,
      "outputs": []
    },
    {
      "cell_type": "code",
      "metadata": {
        "id": "keFClCbcNGRv"
      },
      "source": [
        "# Exploring the dataset\n",
        "# \n",
        "dataset.shape"
      ],
      "execution_count": null,
      "outputs": []
    },
    {
      "cell_type": "code",
      "metadata": {
        "id": "BbG0v1SZNKAT",
        "colab": {
          "base_uri": "https://localhost:8080/",
          "height": 204
        },
        "outputId": "098bf534-679f-4a1f-f0b8-98958bba32ec"
      },
      "source": [
        "# Previewing the dataset\n",
        "# \n",
        "dataset.head()"
      ],
      "execution_count": null,
      "outputs": [
        {
          "output_type": "execute_result",
          "data": {
            "text/html": [
              "<div>\n",
              "<style scoped>\n",
              "    .dataframe tbody tr th:only-of-type {\n",
              "        vertical-align: middle;\n",
              "    }\n",
              "\n",
              "    .dataframe tbody tr th {\n",
              "        vertical-align: top;\n",
              "    }\n",
              "\n",
              "    .dataframe thead th {\n",
              "        text-align: right;\n",
              "    }\n",
              "</style>\n",
              "<table border=\"1\" class=\"dataframe\">\n",
              "  <thead>\n",
              "    <tr style=\"text-align: right;\">\n",
              "      <th></th>\n",
              "      <th>Hours</th>\n",
              "      <th>Scores</th>\n",
              "    </tr>\n",
              "  </thead>\n",
              "  <tbody>\n",
              "    <tr>\n",
              "      <th>0</th>\n",
              "      <td>2.5</td>\n",
              "      <td>21</td>\n",
              "    </tr>\n",
              "    <tr>\n",
              "      <th>1</th>\n",
              "      <td>5.1</td>\n",
              "      <td>47</td>\n",
              "    </tr>\n",
              "    <tr>\n",
              "      <th>2</th>\n",
              "      <td>3.2</td>\n",
              "      <td>27</td>\n",
              "    </tr>\n",
              "    <tr>\n",
              "      <th>3</th>\n",
              "      <td>8.5</td>\n",
              "      <td>75</td>\n",
              "    </tr>\n",
              "    <tr>\n",
              "      <th>4</th>\n",
              "      <td>3.5</td>\n",
              "      <td>30</td>\n",
              "    </tr>\n",
              "  </tbody>\n",
              "</table>\n",
              "</div>"
            ],
            "text/plain": [
              "   Hours  Scores\n",
              "0    2.5      21\n",
              "1    5.1      47\n",
              "2    3.2      27\n",
              "3    8.5      75\n",
              "4    3.5      30"
            ]
          },
          "metadata": {
            "tags": []
          },
          "execution_count": 3
        }
      ]
    },
    {
      "cell_type": "code",
      "metadata": {
        "id": "YKRk7PeaNUl3"
      },
      "source": [
        "# Showing the statistical details of the dataset\n",
        "# \n",
        "dataset.describe()"
      ],
      "execution_count": null,
      "outputs": []
    },
    {
      "cell_type": "code",
      "metadata": {
        "id": "UThdYDdSNYSb",
        "colab": {
          "base_uri": "https://localhost:8080/",
          "height": 295
        },
        "outputId": "e94fb7ec-a389-4fd8-e756-a4a88952e1cd"
      },
      "source": [
        "# Plotting to find any relationship between the variables\n",
        "# \n",
        "dataset.plot(x='Hours', y='Scores', style='o')\n",
        "plt.title('Hours vs Percentage')\n",
        "plt.xlabel('Hours Studied')\n",
        "plt.ylabel('Percentage Score')\n",
        "plt.show()\n",
        "\n",
        "# We can clearly see that there is a positive linear relation \n",
        "# between the number of hours studied and percentage of score."
      ],
      "execution_count": null,
      "outputs": [
        {
          "output_type": "display_data",
          "data": {
            "image/png": "[encoded data removed]",
            "text/plain": [
              "<Figure size 432x288 with 1 Axes>"
            ]
          },
          "metadata": {
            "tags": []
          }
        }
      ]
    },
    {
      "cell_type": "code",
      "metadata": {
        "id": "h-AgBperNxAZ"
      },
      "source": [
        "# Preparing the data\n",
        "# ---\n",
        "# Dividing the data into \"attributes\" and \"labels\". \n",
        "# Attributes are the independent variables while labels are dependent variables \n",
        "# whose values are to be predicted. In our dataset we only have two columns. \n",
        "# We want to predict the percentage score depending upon the hours studied. \n",
        "# Therefore our attribute set will consist of the \"Hours\" column, \n",
        "# and the label will be the \"Score\" column. To extract the attributes and labels,\n",
        "# ---\n",
        "# \n",
        "X = dataset.iloc[:, :-1].values\n",
        "y = dataset.iloc[:, 1].values\n",
        "\n",
        "# The attributes are stored in the X variable. We specified \"-1\" as the range for columns \n",
        "# since we wanted our attribute set to contain all the columns except the last one, \n",
        "# which is \"Scores\". Similarly the y variable contains the labels. \n",
        "# We specified 1 for the label column since the index for \"Scores\" column is 1. \n",
        "# Remember, the column indexes start with 0, with 1 being the second column. "
      ],
      "execution_count": null,
      "outputs": []
    },
    {
      "cell_type": "code",
      "metadata": {
        "id": "wZ2eKZmiOSFH"
      },
      "source": [
        "# Splitting the data\n",
        "# ---\n",
        "# The next step is to split this data into training and test sets. \n",
        "# We'll do this by using Scikit-Learn's built-in train_test_split() method\n",
        "# ---\n",
        "# \n",
        "from sklearn.model_selection import train_test_split\n",
        "X_train, X_test, y_train, y_test = train_test_split(X, y, test_size=0.2, random_state=0)\n",
        "\n",
        "# The above script splits 80% of the data to training set while 20% of the data to test set. \n",
        "# The test_size variable is where we actually specify the proportion of test set."
      ],
      "execution_count": null,
      "outputs": []
    },
    {
      "cell_type": "code",
      "metadata": {
        "id": "x9uGRDqXOgOG"
      },
      "source": [
        "# Training the Algorithm\n",
        "# ---\n",
        "# \n",
        "from sklearn.linear_model import LinearRegression\n",
        "regressor = LinearRegression()\n",
        "regressor.fit(X_train, y_train)\n",
        "\n",
        "# With Scikit-Learn it is extremely straight forward to implement linear regression models, \n",
        "# as all you really need to do is import the LinearRegression class, instantiate it, \n",
        "# and call the fit() method along with our training data. \n",
        "# This is about as simple as it gets when using a machine learning library to train on your data."
      ],
      "execution_count": null,
      "outputs": []
    },
    {
      "cell_type": "code",
      "metadata": {
        "id": "I23UM9OBOxNF"
      },
      "source": [
        "# Getting the intercept and slope\n",
        "# ---\n",
        "# In the theory section we said that linear regression model basically \n",
        "# finds the best value for the intercept and slope, which results in a line that best fits the data. \n",
        "# To see the value of the intercept and slope calculated \n",
        "# by the linear regression algorithm for our dataset, execute the following code.\n",
        "# ---\n",
        "# \n",
        "\n",
        "# intercept\n",
        "# \n",
        "print(regressor.intercept_)\n",
        "\n",
        "# slope\n",
        "# \n",
        "print(regressor.coef_)\n",
        "\n",
        "# From the output of this cell, it means that for every one unit of change in hours studied, \n",
        "# the change in the score is about 9.91%. Or in simpler words, \n",
        "# if a student studies one hour more than they previously studied for an exam, \n",
        "# they can expect to achieve an increase of 9.91% in the score achieved by the student previously."
      ],
      "execution_count": null,
      "outputs": []
    },
    {
      "cell_type": "code",
      "metadata": {
        "id": "wuHJKBUlPfFn"
      },
      "source": [
        "# Making Predictions\n",
        "# ---\n",
        "# Now that we have trained our algorithm, it's time to make some predictions. \n",
        "# To do so, we will use our test data and see how accurately our algorithm predicts the percentage score. \n",
        "# To make pre-dictions on the test data, execute the following\n",
        "# ---\n",
        "# \n",
        "\n",
        "# The y_pred is a numpy array that contains all the predicted values \n",
        "# for the input values in the X_test series.\n",
        "# \n",
        "y_pred = regressor.predict(X_test)\n",
        "\n",
        "# To compare the actual output values for X_test with the predicted values, execute the following \n",
        "df = pd.DataFrame({'Actual': y_test, 'Predicted': y_pred})\n",
        "df\n",
        "\n",
        "# We will note from the output that though our model is not very precise, \n",
        "# the predicted percentages are close to the actual ones."
      ],
      "execution_count": null,
      "outputs": []
    },
    {
      "cell_type": "code",
      "metadata": {
        "id": "jowxlDVSRDTn"
      },
      "source": [
        "# Evaluating the Algorithm\n",
        "# ---\n",
        "# The final step is to evaluate the performance of algorithm. \n",
        "# This step is particularly important to compare how well different algorithms perform on a particular dataset. \n",
        "# For regression algorithms, three evaluation metrics are commonly used:\n",
        "# 1. Mean Absolute Error (MAE) is the mean of the absolute value of the errors. \n",
        "# 2. Mean Squared Error (MSE) is the mean of the squared errors.\n",
        "# 3. Root Mean Squared Error (RMSE) is the square root of the mean of the squared errors.\n",
        "# ---\n",
        "# The Scikit-Learn library comes with pre-built functions that can be used to find out these values for us.\n",
        "# Let's find the values for these metrics using our test data. \"\"\n",
        "# \n",
        "\n",
        "from sklearn import metrics\n",
        "print('Mean Absolute Error:', metrics.mean_absolute_error(y_test, y_pred))\n",
        "print('Mean Squared Error:', metrics.mean_squared_error(y_test, y_pred))\n",
        "print('Root Mean Squared Error:', np.sqrt(metrics.mean_squared_error(y_test, y_pred)))\n",
        "\n",
        "# From the output, we will see that the value of root mean squared error is 4.64, \n",
        "# which is less than 10% of the mean value of the percentages of all the students i.e. 51.48. \n",
        "# This means that our algorithm did a decent job."
      ],
      "execution_count": null,
      "outputs": []
    },
    {
      "cell_type": "markdown",
      "metadata": {
        "id": "_gWczaAQe4bp"
      },
      "source": [
        "### <font color=\"green\">Challenges</font>"
      ]
    },
    {
      "cell_type": "code",
      "metadata": {
        "id": "zL4yYZ6Ve4H9"
      },
      "source": [
        "# Challenge 1\n",
        "# ---\n",
        "# The given dataset contains average masses for women as a function \n",
        "# of their height in a sample of American women of age 30–39.\n",
        "# Create a simple linear regression model outlining its accuracy.\n",
        "# ---\n",
        "# Dataset url = http://bit.ly/HeightsandWeightsDataset\n",
        "# ---\n",
        "# \n",
        "OUR CODE GOES HERE"
      ],
      "execution_count": null,
      "outputs": []
    },
    {
      "cell_type": "code",
      "metadata": {
        "id": "h1mlXI8mgNdS"
      },
      "source": [
        "# Challenge 2\n",
        "# ---\n",
        "# Create linear regression model to predict salaries given a dataset with salaries data.\n",
        "# ---\n",
        "# Dataset url = http://bit.ly/SalariesDataset\n",
        "# ---\n",
        "# \n",
        "OUR CODE GOES HERE"
      ],
      "execution_count": null,
      "outputs": []
    },
    {
      "cell_type": "markdown",
      "metadata": {
        "id": "YVJrqTADe08b"
      },
      "source": [
        "## 2.0 Multiple Linear Regression"
      ]
    },
    {
      "cell_type": "markdown",
      "metadata": {
        "id": "b5E9neGKMCHW"
      },
      "source": [
        "### Example"
      ]
    },
    {
      "cell_type": "code",
      "metadata": {
        "id": "vagv6EXNLM17"
      },
      "source": [
        "# Example 2\n",
        "# ---\n",
        "# Predict the gas consumptions (in millions of gallons) in 48 US states based upon gas taxes (in cents), \n",
        "# per capita income (dollars), paved highways (in miles) and the proportion of population that has a license.\n",
        "# ---\n",
        "# In the first example we performed linear regression involving two variables. \n",
        "# Almost all real world problems that you are going to encounter will have more than two variables. \n",
        "# Linear regression involving multiple variables is called \"multiple linear regression\". \n",
        "# The steps to perform multiple linear regression are almost similar to that of simple linear regression. \n",
        "# The difference lies in the evaluation. \n",
        "# You can use it to find out which factor has the highest impact on the predicted output \n",
        "# and how different variables relate to each other.\n",
        "#"
      ],
      "execution_count": null,
      "outputs": []
    },
    {
      "cell_type": "code",
      "metadata": {
        "id": "45kBy3RvTMbF"
      },
      "source": [
        "# Importing the Libraries\n",
        "# "
      ],
      "execution_count": null,
      "outputs": []
    },
    {
      "cell_type": "code",
      "metadata": {
        "id": "qxUMyWLrLObM"
      },
      "source": [
        "# Loading our dataset\n",
        "#\n",
        "dataset = pd.read_csv('http://bit.ly/PetroleumDataset')"
      ],
      "execution_count": null,
      "outputs": []
    },
    {
      "cell_type": "code",
      "metadata": {
        "id": "s2u70hh3agUW"
      },
      "source": [
        "# Previewing the dataset\n",
        "# \n",
        "dataset.head()"
      ],
      "execution_count": null,
      "outputs": []
    },
    {
      "cell_type": "code",
      "metadata": {
        "id": "sFZpmhX3amPC"
      },
      "source": [
        "# Previewing the statistical details of the dataset\n",
        "# \n",
        "dataset.describe()"
      ],
      "execution_count": null,
      "outputs": []
    },
    {
      "cell_type": "code",
      "metadata": {
        "id": "hQ1SsM3GasGT"
      },
      "source": [
        "# Preparing the Data\n",
        "# ---\n",
        "# Dividing the data into attributes and labels as we did previously. \n",
        "# However, unlike last time, this time around we are going to use column names for creating an attribute set and label.\n",
        "# ---\n",
        "# \n",
        "\n",
        "X = dataset[['Petrol_tax', 'Average_income', 'Paved_Highways',\n",
        "       'Population_Driver_licence(%)']]\n",
        "y = dataset['Petrol_Consumption']"
      ],
      "execution_count": null,
      "outputs": []
    },
    {
      "cell_type": "code",
      "metadata": {
        "id": "ZzKjcpvSa6Vq"
      },
      "source": [
        "# Dividing our data into training and test sets\n",
        "# ---\n",
        "# \n",
        "from sklearn.model_selection import train_test_split\n",
        "X_train, X_test, y_train, y_test = train_test_split(X, y, test_size=0.2, random_state=0)"
      ],
      "execution_count": null,
      "outputs": []
    },
    {
      "cell_type": "code",
      "metadata": {
        "id": "vYrO-DOfbA6N",
        "colab": {
          "base_uri": "https://localhost:8080/"
        },
        "outputId": "2dcdbc92-64a4-44af-a021-d96eed54819e"
      },
      "source": [
        "# Training the Algorithm\n",
        "# ---\n",
        "# To train the algorithm we execute the same code as before, using the fit() method of the LinearRegression class\n",
        "# ---\n",
        "# \n",
        "from sklearn.linear_model import LinearRegression\n",
        "regressor = LinearRegression()\n",
        "regressor.fit(X_train, y_train)"
      ],
      "execution_count": null,
      "outputs": [
        {
          "output_type": "execute_result",
          "data": {
            "text/plain": [
              "LinearRegression()"
            ]
          },
          "metadata": {},
          "execution_count": 7
        }
      ]
    },
    {
      "cell_type": "code",
      "metadata": {
        "id": "VG-K07XAbLkp",
        "colab": {
          "base_uri": "https://localhost:8080/",
          "height": 239
        },
        "outputId": "e174ffe9-b204-4d00-875d-91153a3daaaa"
      },
      "source": [
        "# In case of multivariable linear regression, the regression model has to \n",
        "# find the most optimal coefficients for all the attributes. \n",
        "# To see what coefficients our regression model has chosen, execute the following\n",
        "# \n",
        "coeff_df = pd.DataFrame(regressor.coef_, X.columns, columns=['Coefficient'])\n",
        "coeff_df\n",
        "\n",
        "# From the output, this means that for a unit increase in \"petrol_tax\", \n",
        "# there is a decrease of 24.19 million gallons in gas consumption. \n",
        "# Similarly, a unit increase in proportion of population with a drivers license \n",
        "# results in an increase of 1.324 billion gallons of gas consumption. \n",
        "# We can see that \"Average_income\" and \"Paved_Highways\" have a very little effect on the gas consumption."
      ],
      "execution_count": null,
      "outputs": [
        {
          "output_type": "execute_result",
          "data": {
            "text/plain": [
              "                              Coefficient\n",
              "Petrol_tax                     -40.016660\n",
              "Average_income                  -0.065413\n",
              "Paved_Highways                  -0.004741\n",
              "Population_Driver_licence(%)  1341.862121"
            ],
            "text/html": [
              "\n",
              "  <div id=\"df-d12accb3-7b15-4294-bd66-83ca66f6e193\">\n",
              "    <div class=\"colab-df-container\">\n",
              "      <div>\n",
              "<style scoped>\n",
              "    .dataframe tbody tr th:only-of-type {\n",
              "        vertical-align: middle;\n",
              "    }\n",
              "\n",
              "    .dataframe tbody tr th {\n",
              "        vertical-align: top;\n",
              "    }\n",
              "\n",
              "    .dataframe thead th {\n",
              "        text-align: right;\n",
              "    }\n",
              "</style>\n",
              "<table border=\"1\" class=\"dataframe\">\n",
              "  <thead>\n",
              "    <tr style=\"text-align: right;\">\n",
              "      <th></th>\n",
              "      <th>Coefficient</th>\n",
              "    </tr>\n",
              "  </thead>\n",
              "  <tbody>\n",
              "    <tr>\n",
              "      <th>Petrol_tax</th>\n",
              "      <td>-40.016660</td>\n",
              "    </tr>\n",
              "    <tr>\n",
              "      <th>Average_income</th>\n",
              "      <td>-0.065413</td>\n",
              "    </tr>\n",
              "    <tr>\n",
              "      <th>Paved_Highways</th>\n",
              "      <td>-0.004741</td>\n",
              "    </tr>\n",
              "    <tr>\n",
              "      <th>Population_Driver_licence(%)</th>\n",
              "      <td>1341.862121</td>\n",
              "    </tr>\n",
              "  </tbody>\n",
              "</table>\n",
              "</div>\n",
              "      <button class=\"colab-df-convert\" onclick=\"convertToInteractive('df-d12accb3-7b15-4294-bd66-83ca66f6e193')\"\n",
              "              title=\"Convert this dataframe to an interactive table.\"\n",
              "              style=\"display:none;\">\n",
              "        \n",
              "  <svg xmlns=\"http://www.w3.org/2000/svg\" height=\"24px\"viewBox=\"0 0 24 24\"\n",
              "       width=\"24px\">\n",
              "    <path d=\"M0 0h24v24H0V0z\" fill=\"none\"/>\n",
              "    <path d=\"M18.56 5.44l.94 2.06.94-2.06 2.06-.94-2.06-.94-.94-2.06-.94 2.06-2.06.94zm-11 1L8.5 8.5l.94-2.06 2.06-.94-2.06-.94L8.5 2.5l-.94 2.06-2.06.94zm10 10l.94 2.06.94-2.06 2.06-.94-2.06-.94-.94-2.06-.94 2.06-2.06.94z\"/><path d=\"M17.41 7.96l-1.37-1.37c-.4-.4-.92-.59-1.43-.59-.52 0-1.04.2-1.43.59L10.3 9.45l-7.72 7.72c-.78.78-.78 2.05 0 2.83L4 21.41c.39.39.9.59 1.41.59.51 0 1.02-.2 1.41-.59l7.78-7.78 2.81-2.81c.8-.78.8-2.07 0-2.86zM5.41 20L4 18.59l7.72-7.72 1.47 1.35L5.41 20z\"/>\n",
              "  </svg>\n",
              "      </button>\n",
              "      \n",
              "  <style>\n",
              "    .colab-df-container {\n",
              "      display:flex;\n",
              "      flex-wrap:wrap;\n",
              "      gap: 12px;\n",
              "    }\n",
              "\n",
              "    .colab-df-convert {\n",
              "      background-color: #E8F0FE;\n",
              "      border: none;\n",
              "      border-radius: 50%;\n",
              "      cursor: pointer;\n",
              "      display: none;\n",
              "      fill: #1967D2;\n",
              "      height: 32px;\n",
              "      padding: 0 0 0 0;\n",
              "      width: 32px;\n",
              "    }\n",
              "\n",
              "    .colab-df-convert:hover {\n",
              "      background-color: #E2EBFA;\n",
              "      box-shadow: 0px 1px 2px rgba(60, 64, 67, 0.3), 0px 1px 3px 1px rgba(60, 64, 67, 0.15);\n",
              "      fill: #174EA6;\n",
              "    }\n",
              "\n",
              "    [theme=dark] .colab-df-convert {\n",
              "      background-color: #3B4455;\n",
              "      fill: #D2E3FC;\n",
              "    }\n",
              "\n",
              "    [theme=dark] .colab-df-convert:hover {\n",
              "      background-color: #434B5C;\n",
              "      box-shadow: 0px 1px 3px 1px rgba(0, 0, 0, 0.15);\n",
              "      filter: drop-shadow(0px 1px 2px rgba(0, 0, 0, 0.3));\n",
              "      fill: #FFFFFF;\n",
              "    }\n",
              "  </style>\n",
              "\n",
              "      <script>\n",
              "        const buttonEl =\n",
              "          document.querySelector('#df-d12accb3-7b15-4294-bd66-83ca66f6e193 button.colab-df-convert');\n",
              "        buttonEl.style.display =\n",
              "          google.colab.kernel.accessAllowed ? 'block' : 'none';\n",
              "\n",
              "        async function convertToInteractive(key) {\n",
              "          const element = document.querySelector('#df-d12accb3-7b15-4294-bd66-83ca66f6e193');\n",
              "          const dataTable =\n",
              "            await google.colab.kernel.invokeFunction('convertToInteractive',\n",
              "                                                     [key], {});\n",
              "          if (!dataTable) return;\n",
              "\n",
              "          const docLinkHtml = 'Like what you see? Visit the ' +\n",
              "            '<a target=\"_blank\" href=https://colab.research.google.com/notebooks/data_table.ipynb>data table notebook</a>'\n",
              "            + ' to learn more about interactive tables.';\n",
              "          element.innerHTML = '';\n",
              "          dataTable['output_type'] = 'display_data';\n",
              "          await google.colab.output.renderOutput(dataTable, element);\n",
              "          const docLink = document.createElement('div');\n",
              "          docLink.innerHTML = docLinkHtml;\n",
              "          element.appendChild(docLink);\n",
              "        }\n",
              "      </script>\n",
              "    </div>\n",
              "  </div>\n",
              "  "
            ]
          },
          "metadata": {},
          "execution_count": 8
        }
      ]
    },
    {
      "cell_type": "code",
      "metadata": {
        "id": "jsMPOZRAbdie",
        "colab": {
          "base_uri": "https://localhost:8080/",
          "height": 363
        },
        "outputId": "eb0e2002-9652-48b9-f95b-21602c6d08ff"
      },
      "source": [
        "# Making Predictions\n",
        "# ---\n",
        "# To make pre-dictions on the test data, execute the following\n",
        "# ---\n",
        "# \n",
        "y_pred = regressor.predict(X_test)\n",
        "\n",
        "# To compare the actual output values for X_test with the predicted values\n",
        "# \n",
        "df = pd.DataFrame({'Actual': y_test, 'Predicted': y_pred})\n",
        "df"
      ],
      "execution_count": null,
      "outputs": [
        {
          "output_type": "execute_result",
          "data": {
            "text/plain": [
              "    Actual   Predicted\n",
              "29     534  469.391989\n",
              "4      410  545.645464\n",
              "26     577  589.668394\n",
              "30     571  569.730413\n",
              "32     577  649.774809\n",
              "37     704  646.631164\n",
              "34     487  511.608148\n",
              "40     587  672.475177\n",
              "7      467  502.074782\n",
              "10     580  501.270734"
            ],
            "text/html": [
              "\n",
              "  <div id=\"df-64a933a1-c21e-4aeb-b305-1040b7c03ae7\">\n",
              "    <div class=\"colab-df-container\">\n",
              "      <div>\n",
              "<style scoped>\n",
              "    .dataframe tbody tr th:only-of-type {\n",
              "        vertical-align: middle;\n",
              "    }\n",
              "\n",
              "    .dataframe tbody tr th {\n",
              "        vertical-align: top;\n",
              "    }\n",
              "\n",
              "    .dataframe thead th {\n",
              "        text-align: right;\n",
              "    }\n",
              "</style>\n",
              "<table border=\"1\" class=\"dataframe\">\n",
              "  <thead>\n",
              "    <tr style=\"text-align: right;\">\n",
              "      <th></th>\n",
              "      <th>Actual</th>\n",
              "      <th>Predicted</th>\n",
              "    </tr>\n",
              "  </thead>\n",
              "  <tbody>\n",
              "    <tr>\n",
              "      <th>29</th>\n",
              "      <td>534</td>\n",
              "      <td>469.391989</td>\n",
              "    </tr>\n",
              "    <tr>\n",
              "      <th>4</th>\n",
              "      <td>410</td>\n",
              "      <td>545.645464</td>\n",
              "    </tr>\n",
              "    <tr>\n",
              "      <th>26</th>\n",
              "      <td>577</td>\n",
              "      <td>589.668394</td>\n",
              "    </tr>\n",
              "    <tr>\n",
              "      <th>30</th>\n",
              "      <td>571</td>\n",
              "      <td>569.730413</td>\n",
              "    </tr>\n",
              "    <tr>\n",
              "      <th>32</th>\n",
              "      <td>577</td>\n",
              "      <td>649.774809</td>\n",
              "    </tr>\n",
              "    <tr>\n",
              "      <th>37</th>\n",
              "      <td>704</td>\n",
              "      <td>646.631164</td>\n",
              "    </tr>\n",
              "    <tr>\n",
              "      <th>34</th>\n",
              "      <td>487</td>\n",
              "      <td>511.608148</td>\n",
              "    </tr>\n",
              "    <tr>\n",
              "      <th>40</th>\n",
              "      <td>587</td>\n",
              "      <td>672.475177</td>\n",
              "    </tr>\n",
              "    <tr>\n",
              "      <th>7</th>\n",
              "      <td>467</td>\n",
              "      <td>502.074782</td>\n",
              "    </tr>\n",
              "    <tr>\n",
              "      <th>10</th>\n",
              "      <td>580</td>\n",
              "      <td>501.270734</td>\n",
              "    </tr>\n",
              "  </tbody>\n",
              "</table>\n",
              "</div>\n",
              "      <button class=\"colab-df-convert\" onclick=\"convertToInteractive('df-64a933a1-c21e-4aeb-b305-1040b7c03ae7')\"\n",
              "              title=\"Convert this dataframe to an interactive table.\"\n",
              "              style=\"display:none;\">\n",
              "        \n",
              "  <svg xmlns=\"http://www.w3.org/2000/svg\" height=\"24px\"viewBox=\"0 0 24 24\"\n",
              "       width=\"24px\">\n",
              "    <path d=\"M0 0h24v24H0V0z\" fill=\"none\"/>\n",
              "    <path d=\"M18.56 5.44l.94 2.06.94-2.06 2.06-.94-2.06-.94-.94-2.06-.94 2.06-2.06.94zm-11 1L8.5 8.5l.94-2.06 2.06-.94-2.06-.94L8.5 2.5l-.94 2.06-2.06.94zm10 10l.94 2.06.94-2.06 2.06-.94-2.06-.94-.94-2.06-.94 2.06-2.06.94z\"/><path d=\"M17.41 7.96l-1.37-1.37c-.4-.4-.92-.59-1.43-.59-.52 0-1.04.2-1.43.59L10.3 9.45l-7.72 7.72c-.78.78-.78 2.05 0 2.83L4 21.41c.39.39.9.59 1.41.59.51 0 1.02-.2 1.41-.59l7.78-7.78 2.81-2.81c.8-.78.8-2.07 0-2.86zM5.41 20L4 18.59l7.72-7.72 1.47 1.35L5.41 20z\"/>\n",
              "  </svg>\n",
              "      </button>\n",
              "      \n",
              "  <style>\n",
              "    .colab-df-container {\n",
              "      display:flex;\n",
              "      flex-wrap:wrap;\n",
              "      gap: 12px;\n",
              "    }\n",
              "\n",
              "    .colab-df-convert {\n",
              "      background-color: #E8F0FE;\n",
              "      border: none;\n",
              "      border-radius: 50%;\n",
              "      cursor: pointer;\n",
              "      display: none;\n",
              "      fill: #1967D2;\n",
              "      height: 32px;\n",
              "      padding: 0 0 0 0;\n",
              "      width: 32px;\n",
              "    }\n",
              "\n",
              "    .colab-df-convert:hover {\n",
              "      background-color: #E2EBFA;\n",
              "      box-shadow: 0px 1px 2px rgba(60, 64, 67, 0.3), 0px 1px 3px 1px rgba(60, 64, 67, 0.15);\n",
              "      fill: #174EA6;\n",
              "    }\n",
              "\n",
              "    [theme=dark] .colab-df-convert {\n",
              "      background-color: #3B4455;\n",
              "      fill: #D2E3FC;\n",
              "    }\n",
              "\n",
              "    [theme=dark] .colab-df-convert:hover {\n",
              "      background-color: #434B5C;\n",
              "      box-shadow: 0px 1px 3px 1px rgba(0, 0, 0, 0.15);\n",
              "      filter: drop-shadow(0px 1px 2px rgba(0, 0, 0, 0.3));\n",
              "      fill: #FFFFFF;\n",
              "    }\n",
              "  </style>\n",
              "\n",
              "      <script>\n",
              "        const buttonEl =\n",
              "          document.querySelector('#df-64a933a1-c21e-4aeb-b305-1040b7c03ae7 button.colab-df-convert');\n",
              "        buttonEl.style.display =\n",
              "          google.colab.kernel.accessAllowed ? 'block' : 'none';\n",
              "\n",
              "        async function convertToInteractive(key) {\n",
              "          const element = document.querySelector('#df-64a933a1-c21e-4aeb-b305-1040b7c03ae7');\n",
              "          const dataTable =\n",
              "            await google.colab.kernel.invokeFunction('convertToInteractive',\n",
              "                                                     [key], {});\n",
              "          if (!dataTable) return;\n",
              "\n",
              "          const docLinkHtml = 'Like what you see? Visit the ' +\n",
              "            '<a target=\"_blank\" href=https://colab.research.google.com/notebooks/data_table.ipynb>data table notebook</a>'\n",
              "            + ' to learn more about interactive tables.';\n",
              "          element.innerHTML = '';\n",
              "          dataTable['output_type'] = 'display_data';\n",
              "          await google.colab.output.renderOutput(dataTable, element);\n",
              "          const docLink = document.createElement('div');\n",
              "          docLink.innerHTML = docLinkHtml;\n",
              "          element.appendChild(docLink);\n",
              "        }\n",
              "      </script>\n",
              "    </div>\n",
              "  </div>\n",
              "  "
            ]
          },
          "metadata": {},
          "execution_count": 9
        }
      ]
    },
    {
      "cell_type": "code",
      "metadata": {
        "id": "rNXQ033cbq-V",
        "colab": {
          "base_uri": "https://localhost:8080/"
        },
        "outputId": "9e8091eb-d63a-4b8a-a1dd-f4905435af64"
      },
      "source": [
        "# Evaluating the Algorithm\n",
        "# ---\n",
        "# \n",
        "from sklearn import metrics\n",
        "print('Mean Absolute Error:', metrics.mean_absolute_error(y_test, y_pred))\n",
        "print('Mean Squared Error:', metrics.mean_squared_error(y_test, y_pred))\n",
        "print('Root Mean Squared Error:', np.sqrt(metrics.mean_squared_error(y_test, y_pred)))\n",
        "\n",
        "# We can see that the value of root mean squared error is 60.07, \n",
        "# which is slightly greater than 10% of the mean value of the gas consumption in all states. \n",
        "# This means that our algorithm was not very accurate but can still make reasonably good predictions.\n",
        "# There are many factors that may have contributed to this inaccuracy, a few of which are :\n",
        "# 1. Need more data: Only one year worth of data isn't that much, \n",
        "#    whereas having multiple years worth could have helped us improve the accuracy quite a bit.\n",
        "# 2. Bad assumptions: We made the assumption that this data has a linear relationship, \n",
        "#    but that might not be the case. Visualizing the data may help you determine that. \n",
        "# 3. Poor features: The features we used may not have had a high enough correlation \n",
        "#    to the values we were trying to predict."
      ],
      "execution_count": null,
      "outputs": [
        {
          "output_type": "stream",
          "name": "stdout",
          "text": [
            "Mean Absolute Error: 56.8222474789647\n",
            "Mean Squared Error: 4666.344787588362\n",
            "Root Mean Squared Error: 68.31064915215168\n"
          ]
        }
      ]
    },
    {
      "cell_type": "markdown",
      "metadata": {
        "id": "7Cuu3sbfLQXr"
      },
      "source": [
        "### <font color=\"green\">Challenges</font>"
      ]
    },
    {
      "cell_type": "code",
      "metadata": {
        "id": "poz5EOJ6LSPN"
      },
      "source": [
        "# Challenge 1\n",
        "# ---\n",
        "# Given the following real estate dataset, create a regression model\n",
        "# to predict the price of a house.\n",
        "# ---\n",
        "# Dataset Source = https://bit.ly/RealEstate_Dataset\n",
        "# ---\n",
        "# \n",
        "OUR CODE GOES HERE"
      ],
      "execution_count": null,
      "outputs": []
    },
    {
      "cell_type": "code",
      "metadata": {
        "id": "QaPWSjUoLUq4"
      },
      "source": [
        "# Challenge 2\n",
        "# ---\n",
        "# Predict the critical temperature based on the features extracted in the given dataset\n",
        "# ---\n",
        "# Dataset source = http://bit.ly/SuperConductorDataset\n",
        "# ---\n",
        "# \n",
        "OUR CODE GOES HERE"
      ],
      "execution_count": null,
      "outputs": []
    }
  ]
}