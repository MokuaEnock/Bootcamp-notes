{
  "cells": [
    {
      "cell_type": "markdown",
      "metadata": {
        "id": "hV51dSte7Bxb"
      },
      "source": [
        "# **Creating Train and Test Datasets Example**"
      ]
    },
    {
      "cell_type": "markdown",
      "metadata": {
        "id": "yZKrJC5QLkje"
      },
      "source": [
        "# Example\n"
      ]
    },
    {
      "cell_type": "markdown",
      "metadata": {
        "id": "rpfcuXFjLxAX"
      },
      "source": [
        "Our major goal here, is to predict how a student will perform in the national exam by using their mock exam scores.There's a few steps we need to do to achieve this.\n",
        "\n",
        "First, we need split the dataset into training and test datasets so that we can train the model to predict our desired outcome\n",
        "\n",
        "After splitting the dataset , we are going to employ a method for training the datasets.\n",
        "\n",
        "The following example will be split into two parts; the first being how to split the dataset into train and test datasets. The second part is how to train the data using linear regression.\n",
        "\n",
        "\n",
        "In this example, we are going to learn how to split a dataset into train and test sets so that we can start training our model. We will first show a naive way of splitting a dataset then continue to show different ways of efficiently splitting the dataset.\n",
        "\n",
        "The dataset we are going to use will comprise of 1000 students exam data from both public and private schools in Kenya. 50% of this data is from public school and the other 50% is from private schools. We need to maintain this proportion when creating our sample dataset.\n",
        "\n",
        "[Download dataset](https://drive.google.com/file/d/12OGVlkFkLwycegmG5zkdDfzoxCJ3qU_k/view?usp=sharing)"
      ]
    },
    {
      "cell_type": "markdown",
      "metadata": {
        "id": "lX2hGBv7Gr_m"
      },
      "source": [
        "**Naive splitting:**\n",
        "\n",
        "- Show a simple 3 column table, with 1 dependent 1 independent variable. The independent variable is the Mock exam column and the dependent variable is National exam column.\n",
        "- use simple splits to create 2 datasets, one for train, one for test"
      ]
    },
    {
      "cell_type": "markdown",
      "metadata": {
        "id": "g4gP2CXbamL8"
      },
      "source": [
        "**Import the Relevant Libraries**"
      ]
    },
    {
      "cell_type": "code",
      "execution_count": 1,
      "metadata": {
        "id": "4uuTY3-1av98"
      },
      "outputs": [],
      "source": [
        "import numpy as np\n",
        "import pandas as pd\n",
        "from sklearn.model_selection import train_test_split\n"
      ]
    },
    {
      "cell_type": "markdown",
      "metadata": {
        "id": "Z8coNT0Lbgh-"
      },
      "source": [
        "**Load the data**\n",
        "\n"
      ]
    },
    {
      "cell_type": "code",
      "execution_count": null,
      "metadata": {
        "id": "KW9mi-ZSQb2x"
      },
      "outputs": [],
      "source": [
        "#Load the dataset\n",
        "data = pd.read_csv('./Data/students_exam_data.csv')\n",
        "\n",
        "#displaying the dataset\n",
        "data\n"
      ]
    },
    {
      "cell_type": "code",
      "execution_count": null,
      "metadata": {
        "id": "CHMbEFpkWT4X"
      },
      "outputs": [],
      "source": [
        "#Split the dataset into train and test sets.\n",
        "# we will split the dataset such that we have the first 700 entries of our dataset as train and the rest 300 entries as test\n",
        "\n",
        "train = data[:700] \n",
        "\n",
        "# Drop all the indexes of the train data we created above from the main data set then store the remaining data in a variable called test\n",
        "test = data.drop(train.index)\n",
        "\n",
        "# Confirm that the train and test dataset have out desired length\n",
        "print(\"train:\" + str(len(train)))\n",
        "print(\"test:\"+ str(len(test)))\n"
      ]
    },
    {
      "cell_type": "markdown",
      "metadata": {
        "id": "hw6QWkjKMA6e"
      },
      "source": [
        "**Analyzing the sets**:\n",
        "\n",
        "\n",
        "How similar are the training and test datasets?\n"
      ]
    },
    {
      "cell_type": "code",
      "execution_count": null,
      "metadata": {
        "id": "wU4hiPUdQ7l1"
      },
      "outputs": [],
      "source": [
        "# Let's analyse the training and the test dataset and see if the right proportions. \n",
        "# Ideally, we want both of our training and test datasets to have a 50-50 apportionment of private and public schools\n",
        "\n",
        "# Check the apportionment of Private and Public schools in the train data set\n",
        "train_count=train['school_type'].value_counts()\n",
        "\n",
        "# Check the apportionment of Private and Public in the test data set\n",
        "test_count=test['school_type'].value_counts()\n",
        "\n",
        "# Print out the apportionment of private and public schools in both train and test dataset\n",
        "print(train_count)\n",
        "print('*************************')\n",
        "print(test_count)"
      ]
    },
    {
      "cell_type": "markdown",
      "metadata": {
        "id": "CX_ZCLc_eNBJ"
      },
      "source": [
        "As you can see,  the number of public schools in the train dataset is 450 while that of private schools is 250.This translates to 65% and 35%  respectively, which is not the proportion we are aiming for.\n",
        "\n",
        "Similarly, in the test dataset there are 250 public schools and 50 private schools. This in turn translates to 84% and 16% respectively. Again, this is not quite the proportion we were aiming for.\n",
        "\n",
        "In conclusion this differs greatly from what we are aiming for, which is to have an equal proportion of private schools and public school in both the train/test dataset.That is, to have 50% of public school and 50% of private school in both the train and test dataset.\n",
        "\n",
        "This is why we termed this as a naive way of splitting the dataset because it does not reflect the populations initial proportion.\n",
        "\n",
        "To achieve the proportion we want, we will employ one of the sampling techniques we covered in module 1"
      ]
    },
    {
      "cell_type": "markdown",
      "metadata": {
        "id": "wO_NJ1d_Q8kk"
      },
      "source": [
        "**Sampling**:\n",
        "\n",
        "Remember module 1 stuff, let's do some stratified sampling, and see that our test / train are now similar to each other (public VS private student representation)"
      ]
    },
    {
      "cell_type": "code",
      "execution_count": null,
      "metadata": {
        "id": "CRAKHxiJRGZe"
      },
      "outputs": [],
      "source": [
        "# Using the Stratified technique we want to split the dataset in such a way that 70% of our dataset will be train set and 30% will be test set. Furthermore, the proportion of public and private schools should be equal in both the train and test dataset. For example, in train dataset we should have 350 public schools and 350 private schools represented. The same goes for the test dataset, we expect to have 150 private schools and 150 private schools.\n",
        "\n",
        "# Stratified train sample\n",
        "train_strat_datset = data.groupby('school_type', group_keys=False).apply(lambda grouped_subset : grouped_subset.sample(frac=0.7))\n",
        "\n",
        "# preview the stratified train dataset\n",
        "train_strat_datset\n",
        "\n",
        "# Stratified test sample\n",
        "test_strat_dataset = data.drop(train_strat_datset.index)\n",
        "\n",
        "# Preview the stratified test dataset\n",
        "test_strat_dataset\n",
        "\n",
        "# Print out the proprortion of private vs public schools in both train and test dataset\n",
        "test_strat_count=test_strat_dataset['school_type'].value_counts()\n",
        "train_strat_count=train_strat_datset['school_type'].value_counts()\n",
        "\n",
        "print(train_strat_count)\n",
        "print('*************************************************')\n",
        "print(test_strat_count)\n"
      ]
    },
    {
      "cell_type": "markdown",
      "metadata": {
        "id": "CCha1fX_RHbO"
      },
      "source": [
        "**train_test_split and it options**\n",
        "\n",
        "Next, we are going to demonstrate another way you can achieve similar results using sklearn library"
      ]
    },
    {
      "cell_type": "code",
      "execution_count": null,
      "metadata": {
        "id": "NCkXyvKgSSq3"
      },
      "outputs": [],
      "source": [
        "# Now we will use sklearn library to split the data set into train and test datasets.Additionally, We will make use of the train_test_split method\n",
        "# The method takes in an dataframe, test_size or train_size as arguments. The dataframe signifies the dataframe we want to split and the test_size/train_size indicates the size of either the train or test dataset we want to have\n",
        "# We'll also use a third argument called stratify which will help us stratifiy the data once we split it.\n",
        "# You can read more on this method through this link https://scikit-learn.org/stable/modules/generated/sklearn.model_selection.train_test_split.html\n",
        "\n",
        "# Split our datset into train_data and test_data using sklearn's train_test_split method\n",
        "train_data, test_data = train_test_split(data, test_size=0.3,stratify=data['school_type'])\n",
        "\n",
        "# Preview the train dataset\n",
        "print(train_data)\n",
        "\n",
        "# Preview the test dataset\n",
        "print(test_data)\n",
        "\n",
        "# Print out the proprortion of private vs public schools in both train and test dataset\n",
        "train_data['school_type'].value_counts()\n",
        "\n",
        "test_data['school_type'].value_counts()\n",
        "\n",
        "print(train_strat_count)\n",
        "print('*************************************************')\n",
        "print(test_strat_count)"
      ]
    }
  ],
  "metadata": {
    "colab": {
      "provenance": [],
      "toc_visible": true
    },
    "kernelspec": {
      "display_name": "Python 3",
      "name": "python3"
    },
    "language_info": {
      "codemirror_mode": {
        "name": "ipython",
        "version": 3
      },
      "file_extension": ".py",
      "mimetype": "text/x-python",
      "name": "python",
      "nbconvert_exporter": "python",
      "pygments_lexer": "ipython3",
      "version": "3.8.10"
    }
  },
  "nbformat": 4,
  "nbformat_minor": 0
}
